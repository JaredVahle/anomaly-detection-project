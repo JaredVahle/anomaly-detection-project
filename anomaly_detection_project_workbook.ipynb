{
 "cells": [
  {
   "cell_type": "code",
   "execution_count": 1,
   "id": "4eeeb8b1",
   "metadata": {},
   "outputs": [],
   "source": [
    "import pandas as pd\n",
    "import numpy as np\n",
    "import os\n",
    "import matplotlib.pyplot as plt\n",
    "import seaborn as sns\n",
    "\n",
    "import acquire\n",
    "import prepare\n",
    "import wrangle"
   ]
  },
  {
   "cell_type": "markdown",
   "id": "caf64e23",
   "metadata": {},
   "source": [
    "### Acquire"
   ]
  },
  {
   "cell_type": "code",
   "execution_count": 2,
   "id": "57464d4c",
   "metadata": {},
   "outputs": [],
   "source": [
    "# Created an acquire.py file that runs a SQL query to join the databases from the codeup library, and created a\n",
    "# pandas dataframe with that query, after that I saved it to a csv, and have to function check for the csv.\n",
    "df = acquire.get_cohort_data()"
   ]
  },
  {
   "cell_type": "code",
   "execution_count": 3,
   "id": "cce0b56f",
   "metadata": {},
   "outputs": [],
   "source": [
    "info_df = acquire.get_cohort_information_data()"
   ]
  },
  {
   "cell_type": "code",
   "execution_count": 4,
   "id": "3bcde6aa",
   "metadata": {},
   "outputs": [
    {
     "data": {
      "text/plain": [
       "(847330, 15)"
      ]
     },
     "execution_count": 4,
     "metadata": {},
     "output_type": "execute_result"
    }
   ],
   "source": [
    "df.shape"
   ]
  },
  {
   "cell_type": "code",
   "execution_count": 5,
   "id": "43ff4096",
   "metadata": {},
   "outputs": [],
   "source": [
    "df = df.astype({\"cohort_id\": int})"
   ]
  },
  {
   "cell_type": "code",
   "execution_count": 6,
   "id": "1746baaf",
   "metadata": {},
   "outputs": [
    {
     "data": {
      "text/html": [
       "<div>\n",
       "<style scoped>\n",
       "    .dataframe tbody tr th:only-of-type {\n",
       "        vertical-align: middle;\n",
       "    }\n",
       "\n",
       "    .dataframe tbody tr th {\n",
       "        vertical-align: top;\n",
       "    }\n",
       "\n",
       "    .dataframe thead th {\n",
       "        text-align: right;\n",
       "    }\n",
       "</style>\n",
       "<table border=\"1\" class=\"dataframe\">\n",
       "  <thead>\n",
       "    <tr style=\"text-align: right;\">\n",
       "      <th></th>\n",
       "      <th>name</th>\n",
       "      <th>start_date</th>\n",
       "      <th>end_date</th>\n",
       "      <th>program_id</th>\n",
       "    </tr>\n",
       "    <tr>\n",
       "      <th>cohort_id</th>\n",
       "      <th></th>\n",
       "      <th></th>\n",
       "      <th></th>\n",
       "      <th></th>\n",
       "    </tr>\n",
       "  </thead>\n",
       "  <tbody>\n",
       "    <tr>\n",
       "      <th>1</th>\n",
       "      <td>Arches</td>\n",
       "      <td>2014-02-04</td>\n",
       "      <td>2014-04-22</td>\n",
       "      <td>1</td>\n",
       "    </tr>\n",
       "    <tr>\n",
       "      <th>2</th>\n",
       "      <td>Badlands</td>\n",
       "      <td>2014-06-04</td>\n",
       "      <td>2014-08-22</td>\n",
       "      <td>1</td>\n",
       "    </tr>\n",
       "    <tr>\n",
       "      <th>3</th>\n",
       "      <td>Carlsbad</td>\n",
       "      <td>2014-09-04</td>\n",
       "      <td>2014-11-05</td>\n",
       "      <td>1</td>\n",
       "    </tr>\n",
       "    <tr>\n",
       "      <th>4</th>\n",
       "      <td>Denali</td>\n",
       "      <td>2014-10-20</td>\n",
       "      <td>2015-01-18</td>\n",
       "      <td>1</td>\n",
       "    </tr>\n",
       "    <tr>\n",
       "      <th>5</th>\n",
       "      <td>Everglades</td>\n",
       "      <td>2014-11-18</td>\n",
       "      <td>2015-02-24</td>\n",
       "      <td>1</td>\n",
       "    </tr>\n",
       "    <tr>\n",
       "      <th>6</th>\n",
       "      <td>Franklin</td>\n",
       "      <td>2015-02-03</td>\n",
       "      <td>2015-05-26</td>\n",
       "      <td>1</td>\n",
       "    </tr>\n",
       "    <tr>\n",
       "      <th>7</th>\n",
       "      <td>Glacier</td>\n",
       "      <td>2015-06-05</td>\n",
       "      <td>2015-10-06</td>\n",
       "      <td>1</td>\n",
       "    </tr>\n",
       "    <tr>\n",
       "      <th>8</th>\n",
       "      <td>Hampton</td>\n",
       "      <td>2015-09-22</td>\n",
       "      <td>2016-02-06</td>\n",
       "      <td>1</td>\n",
       "    </tr>\n",
       "    <tr>\n",
       "      <th>9</th>\n",
       "      <td>Apollo</td>\n",
       "      <td>2015-03-30</td>\n",
       "      <td>2015-07-29</td>\n",
       "      <td>4</td>\n",
       "    </tr>\n",
       "    <tr>\n",
       "      <th>10</th>\n",
       "      <td>Balboa</td>\n",
       "      <td>2015-11-03</td>\n",
       "      <td>2016-03-11</td>\n",
       "      <td>4</td>\n",
       "    </tr>\n",
       "    <tr>\n",
       "      <th>11</th>\n",
       "      <td>Ike</td>\n",
       "      <td>2016-01-20</td>\n",
       "      <td>2016-05-12</td>\n",
       "      <td>1</td>\n",
       "    </tr>\n",
       "    <tr>\n",
       "      <th>12</th>\n",
       "      <td>Joshua</td>\n",
       "      <td>2016-03-08</td>\n",
       "      <td>2016-06-30</td>\n",
       "      <td>1</td>\n",
       "    </tr>\n",
       "    <tr>\n",
       "      <th>13</th>\n",
       "      <td>Kings</td>\n",
       "      <td>2016-05-23</td>\n",
       "      <td>2016-09-15</td>\n",
       "      <td>1</td>\n",
       "    </tr>\n",
       "    <tr>\n",
       "      <th>14</th>\n",
       "      <td>Lassen</td>\n",
       "      <td>2016-07-18</td>\n",
       "      <td>2016-11-10</td>\n",
       "      <td>1</td>\n",
       "    </tr>\n",
       "    <tr>\n",
       "      <th>15</th>\n",
       "      <td>Mammoth</td>\n",
       "      <td>2016-09-26</td>\n",
       "      <td>2017-02-02</td>\n",
       "      <td>2</td>\n",
       "    </tr>\n",
       "    <tr>\n",
       "      <th>16</th>\n",
       "      <td>Niagara</td>\n",
       "      <td>2016-10-26</td>\n",
       "      <td>2017-03-09</td>\n",
       "      <td>2</td>\n",
       "    </tr>\n",
       "    <tr>\n",
       "      <th>17</th>\n",
       "      <td>Olympic</td>\n",
       "      <td>2017-02-06</td>\n",
       "      <td>2017-05-25</td>\n",
       "      <td>1</td>\n",
       "    </tr>\n",
       "    <tr>\n",
       "      <th>18</th>\n",
       "      <td>Pinnacles</td>\n",
       "      <td>2017-03-27</td>\n",
       "      <td>2017-07-20</td>\n",
       "      <td>2</td>\n",
       "    </tr>\n",
       "    <tr>\n",
       "      <th>19</th>\n",
       "      <td>Quincy</td>\n",
       "      <td>2017-06-05</td>\n",
       "      <td>2017-09-22</td>\n",
       "      <td>1</td>\n",
       "    </tr>\n",
       "    <tr>\n",
       "      <th>20</th>\n",
       "      <td>Redwood</td>\n",
       "      <td>2017-07-31</td>\n",
       "      <td>2017-12-06</td>\n",
       "      <td>2</td>\n",
       "    </tr>\n",
       "    <tr>\n",
       "      <th>21</th>\n",
       "      <td>Sequoia</td>\n",
       "      <td>2017-09-27</td>\n",
       "      <td>2018-02-15</td>\n",
       "      <td>2</td>\n",
       "    </tr>\n",
       "    <tr>\n",
       "      <th>22</th>\n",
       "      <td>Teddy</td>\n",
       "      <td>2018-01-08</td>\n",
       "      <td>2018-05-17</td>\n",
       "      <td>2</td>\n",
       "    </tr>\n",
       "    <tr>\n",
       "      <th>23</th>\n",
       "      <td>Ulysses</td>\n",
       "      <td>2018-03-05</td>\n",
       "      <td>2018-07-19</td>\n",
       "      <td>2</td>\n",
       "    </tr>\n",
       "    <tr>\n",
       "      <th>24</th>\n",
       "      <td>Voyageurs</td>\n",
       "      <td>2018-05-29</td>\n",
       "      <td>2018-10-11</td>\n",
       "      <td>2</td>\n",
       "    </tr>\n",
       "    <tr>\n",
       "      <th>25</th>\n",
       "      <td>Wrangell</td>\n",
       "      <td>2018-07-23</td>\n",
       "      <td>2018-11-29</td>\n",
       "      <td>2</td>\n",
       "    </tr>\n",
       "    <tr>\n",
       "      <th>26</th>\n",
       "      <td>Xanadu</td>\n",
       "      <td>2018-09-17</td>\n",
       "      <td>2019-02-08</td>\n",
       "      <td>2</td>\n",
       "    </tr>\n",
       "    <tr>\n",
       "      <th>27</th>\n",
       "      <td>Yosemite</td>\n",
       "      <td>2018-11-05</td>\n",
       "      <td>2019-04-03</td>\n",
       "      <td>2</td>\n",
       "    </tr>\n",
       "    <tr>\n",
       "      <th>28</th>\n",
       "      <td>Staff</td>\n",
       "      <td>2014-02-04</td>\n",
       "      <td>2014-02-04</td>\n",
       "      <td>2</td>\n",
       "    </tr>\n",
       "    <tr>\n",
       "      <th>29</th>\n",
       "      <td>Zion</td>\n",
       "      <td>2019-01-22</td>\n",
       "      <td>2019-06-04</td>\n",
       "      <td>2</td>\n",
       "    </tr>\n",
       "    <tr>\n",
       "      <th>30</th>\n",
       "      <td>Ada</td>\n",
       "      <td>2019-02-04</td>\n",
       "      <td>2019-06-16</td>\n",
       "      <td>3</td>\n",
       "    </tr>\n",
       "    <tr>\n",
       "      <th>31</th>\n",
       "      <td>Andromeda</td>\n",
       "      <td>2019-03-18</td>\n",
       "      <td>2019-07-30</td>\n",
       "      <td>2</td>\n",
       "    </tr>\n",
       "    <tr>\n",
       "      <th>32</th>\n",
       "      <td>Betelgeuse</td>\n",
       "      <td>2019-05-28</td>\n",
       "      <td>2019-10-08</td>\n",
       "      <td>2</td>\n",
       "    </tr>\n",
       "    <tr>\n",
       "      <th>33</th>\n",
       "      <td>Ceres</td>\n",
       "      <td>2019-07-15</td>\n",
       "      <td>2019-12-11</td>\n",
       "      <td>2</td>\n",
       "    </tr>\n",
       "    <tr>\n",
       "      <th>34</th>\n",
       "      <td>Bayes</td>\n",
       "      <td>2019-08-19</td>\n",
       "      <td>2020-01-30</td>\n",
       "      <td>3</td>\n",
       "    </tr>\n",
       "    <tr>\n",
       "      <th>51</th>\n",
       "      <td>Deimos</td>\n",
       "      <td>2019-09-16</td>\n",
       "      <td>2020-02-27</td>\n",
       "      <td>2</td>\n",
       "    </tr>\n",
       "    <tr>\n",
       "      <th>52</th>\n",
       "      <td>Europa</td>\n",
       "      <td>2019-11-04</td>\n",
       "      <td>2020-04-17</td>\n",
       "      <td>2</td>\n",
       "    </tr>\n",
       "    <tr>\n",
       "      <th>53</th>\n",
       "      <td>Fortuna</td>\n",
       "      <td>2020-01-13</td>\n",
       "      <td>2020-06-23</td>\n",
       "      <td>2</td>\n",
       "    </tr>\n",
       "    <tr>\n",
       "      <th>55</th>\n",
       "      <td>Curie</td>\n",
       "      <td>2020-02-03</td>\n",
       "      <td>2020-07-07</td>\n",
       "      <td>3</td>\n",
       "    </tr>\n",
       "    <tr>\n",
       "      <th>56</th>\n",
       "      <td>Apex</td>\n",
       "      <td>2020-02-24</td>\n",
       "      <td>2020-07-29</td>\n",
       "      <td>2</td>\n",
       "    </tr>\n",
       "    <tr>\n",
       "      <th>57</th>\n",
       "      <td>Ganymede</td>\n",
       "      <td>2020-03-23</td>\n",
       "      <td>2020-08-20</td>\n",
       "      <td>2</td>\n",
       "    </tr>\n",
       "    <tr>\n",
       "      <th>58</th>\n",
       "      <td>Hyperion</td>\n",
       "      <td>2020-05-26</td>\n",
       "      <td>2020-11-10</td>\n",
       "      <td>2</td>\n",
       "    </tr>\n",
       "    <tr>\n",
       "      <th>59</th>\n",
       "      <td>Darden</td>\n",
       "      <td>2020-07-13</td>\n",
       "      <td>2021-01-12</td>\n",
       "      <td>3</td>\n",
       "    </tr>\n",
       "    <tr>\n",
       "      <th>60</th>\n",
       "      <td>Io</td>\n",
       "      <td>2020-07-20</td>\n",
       "      <td>2021-01-21</td>\n",
       "      <td>2</td>\n",
       "    </tr>\n",
       "    <tr>\n",
       "      <th>61</th>\n",
       "      <td>Bash</td>\n",
       "      <td>2020-07-20</td>\n",
       "      <td>2021-01-21</td>\n",
       "      <td>2</td>\n",
       "    </tr>\n",
       "    <tr>\n",
       "      <th>62</th>\n",
       "      <td>Jupiter</td>\n",
       "      <td>2020-09-21</td>\n",
       "      <td>2021-03-30</td>\n",
       "      <td>2</td>\n",
       "    </tr>\n",
       "    <tr>\n",
       "      <th>132</th>\n",
       "      <td>Kalypso</td>\n",
       "      <td>2020-11-02</td>\n",
       "      <td>2021-05-04</td>\n",
       "      <td>2</td>\n",
       "    </tr>\n",
       "    <tr>\n",
       "      <th>133</th>\n",
       "      <td>Easley</td>\n",
       "      <td>2020-12-02</td>\n",
       "      <td>2021-06-17</td>\n",
       "      <td>3</td>\n",
       "    </tr>\n",
       "    <tr>\n",
       "      <th>134</th>\n",
       "      <td>Luna</td>\n",
       "      <td>2020-12-02</td>\n",
       "      <td>2021-06-17</td>\n",
       "      <td>2</td>\n",
       "    </tr>\n",
       "    <tr>\n",
       "      <th>135</th>\n",
       "      <td>Marco</td>\n",
       "      <td>2021-01-02</td>\n",
       "      <td>2021-07-17</td>\n",
       "      <td>2</td>\n",
       "    </tr>\n",
       "    <tr>\n",
       "      <th>137</th>\n",
       "      <td>Florence</td>\n",
       "      <td>2021-02-02</td>\n",
       "      <td>2021-08-17</td>\n",
       "      <td>3</td>\n",
       "    </tr>\n",
       "    <tr>\n",
       "      <th>138</th>\n",
       "      <td>Neptune</td>\n",
       "      <td>2021-03-13</td>\n",
       "      <td>2021-08-29</td>\n",
       "      <td>2</td>\n",
       "    </tr>\n",
       "    <tr>\n",
       "      <th>139</th>\n",
       "      <td>Oberon</td>\n",
       "      <td>2021-04-12</td>\n",
       "      <td>2021-09-28</td>\n",
       "      <td>2</td>\n",
       "    </tr>\n",
       "  </tbody>\n",
       "</table>\n",
       "</div>"
      ],
      "text/plain": [
       "                 name  start_date    end_date  program_id\n",
       "cohort_id                                                \n",
       "1              Arches  2014-02-04  2014-04-22           1\n",
       "2            Badlands  2014-06-04  2014-08-22           1\n",
       "3            Carlsbad  2014-09-04  2014-11-05           1\n",
       "4              Denali  2014-10-20  2015-01-18           1\n",
       "5          Everglades  2014-11-18  2015-02-24           1\n",
       "6            Franklin  2015-02-03  2015-05-26           1\n",
       "7             Glacier  2015-06-05  2015-10-06           1\n",
       "8             Hampton  2015-09-22  2016-02-06           1\n",
       "9              Apollo  2015-03-30  2015-07-29           4\n",
       "10             Balboa  2015-11-03  2016-03-11           4\n",
       "11                Ike  2016-01-20  2016-05-12           1\n",
       "12             Joshua  2016-03-08  2016-06-30           1\n",
       "13              Kings  2016-05-23  2016-09-15           1\n",
       "14             Lassen  2016-07-18  2016-11-10           1\n",
       "15            Mammoth  2016-09-26  2017-02-02           2\n",
       "16            Niagara  2016-10-26  2017-03-09           2\n",
       "17            Olympic  2017-02-06  2017-05-25           1\n",
       "18          Pinnacles  2017-03-27  2017-07-20           2\n",
       "19             Quincy  2017-06-05  2017-09-22           1\n",
       "20            Redwood  2017-07-31  2017-12-06           2\n",
       "21            Sequoia  2017-09-27  2018-02-15           2\n",
       "22              Teddy  2018-01-08  2018-05-17           2\n",
       "23            Ulysses  2018-03-05  2018-07-19           2\n",
       "24          Voyageurs  2018-05-29  2018-10-11           2\n",
       "25           Wrangell  2018-07-23  2018-11-29           2\n",
       "26             Xanadu  2018-09-17  2019-02-08           2\n",
       "27           Yosemite  2018-11-05  2019-04-03           2\n",
       "28              Staff  2014-02-04  2014-02-04           2\n",
       "29               Zion  2019-01-22  2019-06-04           2\n",
       "30                Ada  2019-02-04  2019-06-16           3\n",
       "31          Andromeda  2019-03-18  2019-07-30           2\n",
       "32         Betelgeuse  2019-05-28  2019-10-08           2\n",
       "33              Ceres  2019-07-15  2019-12-11           2\n",
       "34              Bayes  2019-08-19  2020-01-30           3\n",
       "51             Deimos  2019-09-16  2020-02-27           2\n",
       "52             Europa  2019-11-04  2020-04-17           2\n",
       "53            Fortuna  2020-01-13  2020-06-23           2\n",
       "55              Curie  2020-02-03  2020-07-07           3\n",
       "56               Apex  2020-02-24  2020-07-29           2\n",
       "57           Ganymede  2020-03-23  2020-08-20           2\n",
       "58           Hyperion  2020-05-26  2020-11-10           2\n",
       "59             Darden  2020-07-13  2021-01-12           3\n",
       "60                 Io  2020-07-20  2021-01-21           2\n",
       "61               Bash  2020-07-20  2021-01-21           2\n",
       "62            Jupiter  2020-09-21  2021-03-30           2\n",
       "132           Kalypso  2020-11-02  2021-05-04           2\n",
       "133            Easley  2020-12-02  2021-06-17           3\n",
       "134              Luna  2020-12-02  2021-06-17           2\n",
       "135             Marco  2021-01-02  2021-07-17           2\n",
       "137          Florence  2021-02-02  2021-08-17           3\n",
       "138           Neptune  2021-03-13  2021-08-29           2\n",
       "139            Oberon  2021-04-12  2021-09-28           2"
      ]
     },
     "execution_count": 6,
     "metadata": {},
     "output_type": "execute_result"
    }
   ],
   "source": [
    "info_df"
   ]
  },
  {
   "cell_type": "code",
   "execution_count": 7,
   "id": "7eb62f51",
   "metadata": {},
   "outputs": [],
   "source": [
    "new_df = df.join(info_df,on = 'cohort_id',how = 'outer',lsuffix = 'str')"
   ]
  },
  {
   "cell_type": "code",
   "execution_count": 8,
   "id": "e16c3f6a",
   "metadata": {},
   "outputs": [
    {
     "data": {
      "text/plain": [
       "date                  5\n",
       "time                  5\n",
       "path                  6\n",
       "user_id               5\n",
       "cohort_id             0\n",
       "ip                    5\n",
       "id               774930\n",
       "namestr          774930\n",
       "slack            774930\n",
       "start_datestr    774930\n",
       "end_datestr      774930\n",
       "created_at       774930\n",
       "updated_at       774930\n",
       "deleted_at       847335\n",
       "program_idstr    774930\n",
       "name                  0\n",
       "start_date            0\n",
       "end_date              0\n",
       "program_id            0\n",
       "dtype: int64"
      ]
     },
     "execution_count": 8,
     "metadata": {},
     "output_type": "execute_result"
    }
   ],
   "source": [
    "new_df.isnull().sum()"
   ]
  },
  {
   "cell_type": "code",
   "execution_count": 9,
   "id": "7603a001",
   "metadata": {},
   "outputs": [],
   "source": [
    "unknown_cohorts = df[df.start_date.isnull()]"
   ]
  },
  {
   "cell_type": "code",
   "execution_count": 10,
   "id": "a2615c42",
   "metadata": {},
   "outputs": [
    {
     "data": {
      "text/plain": [
       "array([ 22,  21,  19,  16,  13,   1,  18,  14,  15,   7,   4,  12,  17,\n",
       "         8,  23,   2,   9,  11,  24,  25,  26,   6,  27,  28,  29,  31,\n",
       "        32,  33,  34,  51,  52,  53,  55,  56,  57,   5,  58,  59,  61,\n",
       "        62, 132, 134, 133, 135, 138, 137, 139])"
      ]
     },
     "execution_count": 10,
     "metadata": {},
     "output_type": "execute_result"
    }
   ],
   "source": [
    "unknown_cohorts.cohort_id.unique()"
   ]
  },
  {
   "cell_type": "code",
   "execution_count": 11,
   "id": "a0855ac4",
   "metadata": {},
   "outputs": [
    {
     "data": {
      "text/plain": [
       "date               0\n",
       "time               0\n",
       "path               1\n",
       "user_id            0\n",
       "cohort_id          0\n",
       "ip                 0\n",
       "id            774925\n",
       "name          774925\n",
       "slack         774925\n",
       "start_date    774925\n",
       "end_date      774925\n",
       "created_at    774925\n",
       "updated_at    774925\n",
       "deleted_at    847330\n",
       "program_id    774925\n",
       "dtype: int64"
      ]
     },
     "execution_count": 11,
     "metadata": {},
     "output_type": "execute_result"
    }
   ],
   "source": [
    "df.isnull().sum()"
   ]
  },
  {
   "cell_type": "code",
   "execution_count": 12,
   "id": "876afa86",
   "metadata": {},
   "outputs": [
    {
     "data": {
      "text/plain": [
       "(847330, 15)"
      ]
     },
     "execution_count": 12,
     "metadata": {},
     "output_type": "execute_result"
    }
   ],
   "source": [
    "df.shape"
   ]
  },
  {
   "cell_type": "markdown",
   "id": "e921cf2f",
   "metadata": {},
   "source": [
    "### Prepare"
   ]
  },
  {
   "cell_type": "markdown",
   "id": "8473bfad",
   "metadata": {},
   "source": [
    "**Prepare summary**\n",
    "\n",
    "##### List of things my clean_cohort_data function does.\n",
    "- Combined the date and time column into a datetime, and converted the datatype to datetime.\n",
    "- Placed my new datetime column to the index for later use.\n",
    "- Replaced the program_id with its corresponding program name and subdomain.\n",
    "- Dropped unnecessary columns 'date','time','deleted_at','program_id','id'.\n",
    "- Renamed 'name' to 'cohort_name' for my personal readability.\n",
    "- Created a dictionary to map cohort name to cohort id.\n",
    "- Filled nulls in cohort_id."
   ]
  },
  {
   "cell_type": "code",
   "execution_count": 2,
   "id": "5ccd35ce",
   "metadata": {},
   "outputs": [],
   "source": [
    "df = wrangle.wrangle_cohort_data()"
   ]
  },
  {
   "cell_type": "code",
   "execution_count": 3,
   "id": "95230fb0",
   "metadata": {},
   "outputs": [
    {
     "data": {
      "text/plain": [
       "date                 0\n",
       "time                 0\n",
       "path                 0\n",
       "user_id              0\n",
       "cohort_id            0\n",
       "ip                   0\n",
       "name                 0\n",
       "start_date           0\n",
       "end_date             0\n",
       "program_id           0\n",
       "program_name         0\n",
       "program_subdomain    0\n",
       "dtype: int64"
      ]
     },
     "execution_count": 3,
     "metadata": {},
     "output_type": "execute_result"
    }
   ],
   "source": [
    "df.isnull().sum()"
   ]
  },
  {
   "cell_type": "code",
   "execution_count": 5,
   "id": "72ef88b9",
   "metadata": {},
   "outputs": [
    {
     "data": {
      "text/html": [
       "<div>\n",
       "<style scoped>\n",
       "    .dataframe tbody tr th:only-of-type {\n",
       "        vertical-align: middle;\n",
       "    }\n",
       "\n",
       "    .dataframe tbody tr th {\n",
       "        vertical-align: top;\n",
       "    }\n",
       "\n",
       "    .dataframe thead th {\n",
       "        text-align: right;\n",
       "    }\n",
       "</style>\n",
       "<table border=\"1\" class=\"dataframe\">\n",
       "  <thead>\n",
       "    <tr style=\"text-align: right;\">\n",
       "      <th></th>\n",
       "      <th>date</th>\n",
       "      <th>time</th>\n",
       "      <th>path</th>\n",
       "      <th>user_id</th>\n",
       "      <th>cohort_id</th>\n",
       "      <th>ip</th>\n",
       "      <th>name</th>\n",
       "      <th>start_date</th>\n",
       "      <th>end_date</th>\n",
       "      <th>program_id</th>\n",
       "      <th>program_name</th>\n",
       "      <th>program_subdomain</th>\n",
       "    </tr>\n",
       "  </thead>\n",
       "  <tbody>\n",
       "    <tr>\n",
       "      <th>0.0</th>\n",
       "      <td>2018-01-26</td>\n",
       "      <td>09:55:03</td>\n",
       "      <td>/</td>\n",
       "      <td>1.0</td>\n",
       "      <td>8.0</td>\n",
       "      <td>97.105.19.61</td>\n",
       "      <td>Hampton</td>\n",
       "      <td>2015-09-22</td>\n",
       "      <td>2016-02-06</td>\n",
       "      <td>1</td>\n",
       "      <td>PHP Full Stack Web Development</td>\n",
       "      <td>php</td>\n",
       "    </tr>\n",
       "    <tr>\n",
       "      <th>1.0</th>\n",
       "      <td>2018-01-26</td>\n",
       "      <td>09:56:02</td>\n",
       "      <td>java-ii</td>\n",
       "      <td>1.0</td>\n",
       "      <td>8.0</td>\n",
       "      <td>97.105.19.61</td>\n",
       "      <td>Hampton</td>\n",
       "      <td>2015-09-22</td>\n",
       "      <td>2016-02-06</td>\n",
       "      <td>1</td>\n",
       "      <td>PHP Full Stack Web Development</td>\n",
       "      <td>php</td>\n",
       "    </tr>\n",
       "    <tr>\n",
       "      <th>2.0</th>\n",
       "      <td>2018-01-26</td>\n",
       "      <td>09:56:05</td>\n",
       "      <td>java-ii/object-oriented-programming</td>\n",
       "      <td>1.0</td>\n",
       "      <td>8.0</td>\n",
       "      <td>97.105.19.61</td>\n",
       "      <td>Hampton</td>\n",
       "      <td>2015-09-22</td>\n",
       "      <td>2016-02-06</td>\n",
       "      <td>1</td>\n",
       "      <td>PHP Full Stack Web Development</td>\n",
       "      <td>php</td>\n",
       "    </tr>\n",
       "    <tr>\n",
       "      <th>3.0</th>\n",
       "      <td>2018-01-26</td>\n",
       "      <td>09:56:06</td>\n",
       "      <td>slides/object_oriented_programming</td>\n",
       "      <td>1.0</td>\n",
       "      <td>8.0</td>\n",
       "      <td>97.105.19.61</td>\n",
       "      <td>Hampton</td>\n",
       "      <td>2015-09-22</td>\n",
       "      <td>2016-02-06</td>\n",
       "      <td>1</td>\n",
       "      <td>PHP Full Stack Web Development</td>\n",
       "      <td>php</td>\n",
       "    </tr>\n",
       "    <tr>\n",
       "      <th>58.0</th>\n",
       "      <td>2018-01-26</td>\n",
       "      <td>10:40:15</td>\n",
       "      <td>javascript-i/functions</td>\n",
       "      <td>1.0</td>\n",
       "      <td>8.0</td>\n",
       "      <td>97.105.19.61</td>\n",
       "      <td>Hampton</td>\n",
       "      <td>2015-09-22</td>\n",
       "      <td>2016-02-06</td>\n",
       "      <td>1</td>\n",
       "      <td>PHP Full Stack Web Development</td>\n",
       "      <td>php</td>\n",
       "    </tr>\n",
       "  </tbody>\n",
       "</table>\n",
       "</div>"
      ],
      "text/plain": [
       "            date      time                                 path  user_id  \\\n",
       "0.0   2018-01-26  09:55:03                                    /      1.0   \n",
       "1.0   2018-01-26  09:56:02                              java-ii      1.0   \n",
       "2.0   2018-01-26  09:56:05  java-ii/object-oriented-programming      1.0   \n",
       "3.0   2018-01-26  09:56:06   slides/object_oriented_programming      1.0   \n",
       "58.0  2018-01-26  10:40:15               javascript-i/functions      1.0   \n",
       "\n",
       "      cohort_id            ip     name  start_date    end_date  program_id  \\\n",
       "0.0         8.0  97.105.19.61  Hampton  2015-09-22  2016-02-06           1   \n",
       "1.0         8.0  97.105.19.61  Hampton  2015-09-22  2016-02-06           1   \n",
       "2.0         8.0  97.105.19.61  Hampton  2015-09-22  2016-02-06           1   \n",
       "3.0         8.0  97.105.19.61  Hampton  2015-09-22  2016-02-06           1   \n",
       "58.0        8.0  97.105.19.61  Hampton  2015-09-22  2016-02-06           1   \n",
       "\n",
       "                        program_name program_subdomain  \n",
       "0.0   PHP Full Stack Web Development               php  \n",
       "1.0   PHP Full Stack Web Development               php  \n",
       "2.0   PHP Full Stack Web Development               php  \n",
       "3.0   PHP Full Stack Web Development               php  \n",
       "58.0  PHP Full Stack Web Development               php  "
      ]
     },
     "execution_count": 5,
     "metadata": {},
     "output_type": "execute_result"
    }
   ],
   "source": [
    "df.head()"
   ]
  },
  {
   "cell_type": "code",
   "execution_count": 4,
   "id": "534e88d9",
   "metadata": {},
   "outputs": [
    {
     "data": {
      "text/plain": [
       "(847329, 12)"
      ]
     },
     "execution_count": 4,
     "metadata": {},
     "output_type": "execute_result"
    }
   ],
   "source": [
    "df.shape"
   ]
  },
  {
   "cell_type": "code",
   "execution_count": 13,
   "id": "02ed18af",
   "metadata": {},
   "outputs": [],
   "source": [
    "df = prepare.clean_cohort_data(df)"
   ]
  },
  {
   "cell_type": "code",
   "execution_count": 14,
   "id": "15ab6a30",
   "metadata": {},
   "outputs": [
    {
     "data": {
      "text/plain": [
       "path                      1\n",
       "user_id                   0\n",
       "cohort_id                 0\n",
       "ip                        0\n",
       "cohort_name          774925\n",
       "slack                774925\n",
       "start_date           774925\n",
       "end_date             774925\n",
       "created_at           774925\n",
       "updated_at           774925\n",
       "program_name         774925\n",
       "program_subdomain    774925\n",
       "count_helper              0\n",
       "split_path                1\n",
       "dtype: int64"
      ]
     },
     "execution_count": 14,
     "metadata": {},
     "output_type": "execute_result"
    }
   ],
   "source": [
    "df.isnull().sum()"
   ]
  },
  {
   "cell_type": "code",
   "execution_count": 15,
   "id": "55f55516",
   "metadata": {},
   "outputs": [
    {
     "data": {
      "text/plain": [
       "(847330, 14)"
      ]
     },
     "execution_count": 15,
     "metadata": {},
     "output_type": "execute_result"
    }
   ],
   "source": [
    "df.shape"
   ]
  },
  {
   "cell_type": "code",
   "execution_count": 16,
   "id": "2af689db",
   "metadata": {},
   "outputs": [
    {
     "data": {
      "text/html": [
       "<div>\n",
       "<style scoped>\n",
       "    .dataframe tbody tr th:only-of-type {\n",
       "        vertical-align: middle;\n",
       "    }\n",
       "\n",
       "    .dataframe tbody tr th {\n",
       "        vertical-align: top;\n",
       "    }\n",
       "\n",
       "    .dataframe thead th {\n",
       "        text-align: right;\n",
       "    }\n",
       "</style>\n",
       "<table border=\"1\" class=\"dataframe\">\n",
       "  <thead>\n",
       "    <tr style=\"text-align: right;\">\n",
       "      <th></th>\n",
       "      <th>path</th>\n",
       "      <th>user_id</th>\n",
       "      <th>cohort_id</th>\n",
       "      <th>ip</th>\n",
       "      <th>cohort_name</th>\n",
       "      <th>slack</th>\n",
       "      <th>start_date</th>\n",
       "      <th>end_date</th>\n",
       "      <th>created_at</th>\n",
       "      <th>updated_at</th>\n",
       "      <th>program_name</th>\n",
       "      <th>program_subdomain</th>\n",
       "      <th>count_helper</th>\n",
       "      <th>split_path</th>\n",
       "    </tr>\n",
       "    <tr>\n",
       "      <th>datetime</th>\n",
       "      <th></th>\n",
       "      <th></th>\n",
       "      <th></th>\n",
       "      <th></th>\n",
       "      <th></th>\n",
       "      <th></th>\n",
       "      <th></th>\n",
       "      <th></th>\n",
       "      <th></th>\n",
       "      <th></th>\n",
       "      <th></th>\n",
       "      <th></th>\n",
       "      <th></th>\n",
       "      <th></th>\n",
       "    </tr>\n",
       "  </thead>\n",
       "  <tbody>\n",
       "    <tr>\n",
       "      <th>2018-01-26 09:55:03</th>\n",
       "      <td>/</td>\n",
       "      <td>1</td>\n",
       "      <td>8</td>\n",
       "      <td>97.105.19.61</td>\n",
       "      <td>Arches</td>\n",
       "      <td>#arches</td>\n",
       "      <td>2014-02-04</td>\n",
       "      <td>2014-04-22</td>\n",
       "      <td>2016-06-14 19:52:26</td>\n",
       "      <td>2016-06-14 19:52:26</td>\n",
       "      <td>PHP Full Stack Web Development</td>\n",
       "      <td>php</td>\n",
       "      <td>1</td>\n",
       "      <td>[, ]</td>\n",
       "    </tr>\n",
       "    <tr>\n",
       "      <th>2018-01-26 09:56:02</th>\n",
       "      <td>java-ii</td>\n",
       "      <td>1</td>\n",
       "      <td>8</td>\n",
       "      <td>97.105.19.61</td>\n",
       "      <td>Arches</td>\n",
       "      <td>#arches</td>\n",
       "      <td>2014-02-04</td>\n",
       "      <td>2014-04-22</td>\n",
       "      <td>2016-06-14 19:52:26</td>\n",
       "      <td>2016-06-14 19:52:26</td>\n",
       "      <td>PHP Full Stack Web Development</td>\n",
       "      <td>php</td>\n",
       "      <td>1</td>\n",
       "      <td>[java-ii]</td>\n",
       "    </tr>\n",
       "    <tr>\n",
       "      <th>2018-01-26 09:56:05</th>\n",
       "      <td>java-ii/object-oriented-programming</td>\n",
       "      <td>1</td>\n",
       "      <td>8</td>\n",
       "      <td>97.105.19.61</td>\n",
       "      <td>Arches</td>\n",
       "      <td>#arches</td>\n",
       "      <td>2014-02-04</td>\n",
       "      <td>2014-04-22</td>\n",
       "      <td>2016-06-14 19:52:26</td>\n",
       "      <td>2016-06-14 19:52:26</td>\n",
       "      <td>PHP Full Stack Web Development</td>\n",
       "      <td>php</td>\n",
       "      <td>1</td>\n",
       "      <td>[java-ii, object-oriented-programming]</td>\n",
       "    </tr>\n",
       "    <tr>\n",
       "      <th>2018-01-26 09:56:06</th>\n",
       "      <td>slides/object_oriented_programming</td>\n",
       "      <td>1</td>\n",
       "      <td>8</td>\n",
       "      <td>97.105.19.61</td>\n",
       "      <td>Arches</td>\n",
       "      <td>#arches</td>\n",
       "      <td>2014-02-04</td>\n",
       "      <td>2014-04-22</td>\n",
       "      <td>2016-06-14 19:52:26</td>\n",
       "      <td>2016-06-14 19:52:26</td>\n",
       "      <td>PHP Full Stack Web Development</td>\n",
       "      <td>php</td>\n",
       "      <td>1</td>\n",
       "      <td>[slides, object_oriented_programming]</td>\n",
       "    </tr>\n",
       "    <tr>\n",
       "      <th>2018-01-26 09:56:24</th>\n",
       "      <td>javascript-i/conditionals</td>\n",
       "      <td>2</td>\n",
       "      <td>22</td>\n",
       "      <td>97.105.19.61</td>\n",
       "      <td>Badlands</td>\n",
       "      <td>#badlands</td>\n",
       "      <td>2014-06-04</td>\n",
       "      <td>2014-08-22</td>\n",
       "      <td>2016-06-14 19:52:26</td>\n",
       "      <td>2016-06-14 19:52:26</td>\n",
       "      <td>PHP Full Stack Web Development</td>\n",
       "      <td>php</td>\n",
       "      <td>1</td>\n",
       "      <td>[javascript-i, conditionals]</td>\n",
       "    </tr>\n",
       "  </tbody>\n",
       "</table>\n",
       "</div>"
      ],
      "text/plain": [
       "                                                    path  user_id  cohort_id  \\\n",
       "datetime                                                                       \n",
       "2018-01-26 09:55:03                                    /        1          8   \n",
       "2018-01-26 09:56:02                              java-ii        1          8   \n",
       "2018-01-26 09:56:05  java-ii/object-oriented-programming        1          8   \n",
       "2018-01-26 09:56:06   slides/object_oriented_programming        1          8   \n",
       "2018-01-26 09:56:24            javascript-i/conditionals        2         22   \n",
       "\n",
       "                               ip cohort_name      slack  start_date  \\\n",
       "datetime                                                               \n",
       "2018-01-26 09:55:03  97.105.19.61      Arches    #arches  2014-02-04   \n",
       "2018-01-26 09:56:02  97.105.19.61      Arches    #arches  2014-02-04   \n",
       "2018-01-26 09:56:05  97.105.19.61      Arches    #arches  2014-02-04   \n",
       "2018-01-26 09:56:06  97.105.19.61      Arches    #arches  2014-02-04   \n",
       "2018-01-26 09:56:24  97.105.19.61    Badlands  #badlands  2014-06-04   \n",
       "\n",
       "                       end_date           created_at           updated_at  \\\n",
       "datetime                                                                    \n",
       "2018-01-26 09:55:03  2014-04-22  2016-06-14 19:52:26  2016-06-14 19:52:26   \n",
       "2018-01-26 09:56:02  2014-04-22  2016-06-14 19:52:26  2016-06-14 19:52:26   \n",
       "2018-01-26 09:56:05  2014-04-22  2016-06-14 19:52:26  2016-06-14 19:52:26   \n",
       "2018-01-26 09:56:06  2014-04-22  2016-06-14 19:52:26  2016-06-14 19:52:26   \n",
       "2018-01-26 09:56:24  2014-08-22  2016-06-14 19:52:26  2016-06-14 19:52:26   \n",
       "\n",
       "                                       program_name program_subdomain  \\\n",
       "datetime                                                                \n",
       "2018-01-26 09:55:03  PHP Full Stack Web Development               php   \n",
       "2018-01-26 09:56:02  PHP Full Stack Web Development               php   \n",
       "2018-01-26 09:56:05  PHP Full Stack Web Development               php   \n",
       "2018-01-26 09:56:06  PHP Full Stack Web Development               php   \n",
       "2018-01-26 09:56:24  PHP Full Stack Web Development               php   \n",
       "\n",
       "                     count_helper                              split_path  \n",
       "datetime                                                                   \n",
       "2018-01-26 09:55:03             1                                    [, ]  \n",
       "2018-01-26 09:56:02             1                               [java-ii]  \n",
       "2018-01-26 09:56:05             1  [java-ii, object-oriented-programming]  \n",
       "2018-01-26 09:56:06             1   [slides, object_oriented_programming]  \n",
       "2018-01-26 09:56:24             1            [javascript-i, conditionals]  "
      ]
     },
     "execution_count": 16,
     "metadata": {},
     "output_type": "execute_result"
    }
   ],
   "source": [
    "df.head()"
   ]
  },
  {
   "cell_type": "code",
   "execution_count": 17,
   "id": "2e4bd850",
   "metadata": {},
   "outputs": [],
   "source": [
    "php_df = df[df.program_subdomain == 'php']"
   ]
  },
  {
   "cell_type": "code",
   "execution_count": 18,
   "id": "9975efd1",
   "metadata": {},
   "outputs": [
    {
     "data": {
      "text/plain": [
       "path                      count_helper\n",
       "/                         1               1.0\n",
       "00_                       1               1.0\n",
       "00_index                  1               1.0\n",
       "01_intro                  1               1.0\n",
       "02_listing_files          1               1.0\n",
       "                                         ... \n",
       "web-design                1               1.0\n",
       "web-design/intro          1               1.0\n",
       "web-design/ui/color       1               1.0\n",
       "web-design/ui/typography  1               1.0\n",
       "web-design/ux/layout      1               1.0\n",
       "Name: count_helper, Length: 1265, dtype: float64"
      ]
     },
     "execution_count": 18,
     "metadata": {},
     "output_type": "execute_result"
    }
   ],
   "source": [
    "php_df.groupby('path').count_helper.value_counts(normalize = True)"
   ]
  },
  {
   "cell_type": "code",
   "execution_count": 19,
   "id": "be8e6b80",
   "metadata": {},
   "outputs": [],
   "source": [
    "java_df = df[df.program_subdomain == 'java']"
   ]
  },
  {
   "cell_type": "code",
   "execution_count": 20,
   "id": "81622c32",
   "metadata": {},
   "outputs": [
    {
     "data": {
      "text/plain": [
       "path                                      count_helper\n",
       "/                                         1               1.0\n",
       "1-fundamentals/1-fundamentals-overview    1               1.0\n",
       "1-fundamentals/1.1-intro-to-data-science  1               1.0\n",
       "1-fundamentals/1.2-data-science-pipeline  1               1.0\n",
       "1-fundamentals/1.3-pipeline-demo          1               1.0\n",
       "                                                         ... \n",
       "web-design/ui/color                       1               1.0\n",
       "web-design/ui/typography                  1               1.0\n",
       "web-design/ui/visuals                     1               1.0\n",
       "web-design/ux/layout                      1               1.0\n",
       "web-design/ux/purpose                     1               1.0\n",
       "Name: count_helper, Length: 614, dtype: float64"
      ]
     },
     "execution_count": 20,
     "metadata": {},
     "output_type": "execute_result"
    }
   ],
   "source": [
    "java_df.groupby('path').count_helper.value_counts(normalize = True)"
   ]
  },
  {
   "cell_type": "code",
   "execution_count": 21,
   "id": "dce880fd",
   "metadata": {},
   "outputs": [],
   "source": [
    "ds_df = df[df.program_subdomain == 'ds']"
   ]
  },
  {
   "cell_type": "code",
   "execution_count": 22,
   "id": "b6c16fac",
   "metadata": {},
   "outputs": [
    {
     "ename": "TypeError",
     "evalue": "You have to supply one of 'by' and 'level'",
     "output_type": "error",
     "traceback": [
      "\u001b[0;31m---------------------------------------------------------------------------\u001b[0m",
      "\u001b[0;31mTypeError\u001b[0m                                 Traceback (most recent call last)",
      "\u001b[0;32m<ipython-input-22-f4a43be1a4d9>\u001b[0m in \u001b[0;36m<module>\u001b[0;34m\u001b[0m\n\u001b[0;32m----> 1\u001b[0;31m \u001b[0mds_df\u001b[0m\u001b[0;34m.\u001b[0m\u001b[0mpath\u001b[0m\u001b[0;34m.\u001b[0m\u001b[0mgroupby\u001b[0m\u001b[0;34m(\u001b[0m\u001b[0;34m)\u001b[0m\u001b[0;34m.\u001b[0m\u001b[0mvalue_counts\u001b[0m\u001b[0;34m(\u001b[0m\u001b[0mnormalize\u001b[0m \u001b[0;34m=\u001b[0m \u001b[0;32mTrue\u001b[0m\u001b[0;34m)\u001b[0m\u001b[0;34m\u001b[0m\u001b[0;34m\u001b[0m\u001b[0m\n\u001b[0m",
      "\u001b[0;32m/usr/local/anaconda3/lib/python3.8/site-packages/pandas/core/series.py\u001b[0m in \u001b[0;36mgroupby\u001b[0;34m(self, by, axis, level, as_index, sort, group_keys, squeeze, observed, dropna)\u001b[0m\n\u001b[1;32m   1715\u001b[0m \u001b[0;34m\u001b[0m\u001b[0m\n\u001b[1;32m   1716\u001b[0m         \u001b[0;32mif\u001b[0m \u001b[0mlevel\u001b[0m \u001b[0;32mis\u001b[0m \u001b[0;32mNone\u001b[0m \u001b[0;32mand\u001b[0m \u001b[0mby\u001b[0m \u001b[0;32mis\u001b[0m \u001b[0;32mNone\u001b[0m\u001b[0;34m:\u001b[0m\u001b[0;34m\u001b[0m\u001b[0;34m\u001b[0m\u001b[0m\n\u001b[0;32m-> 1717\u001b[0;31m             \u001b[0;32mraise\u001b[0m \u001b[0mTypeError\u001b[0m\u001b[0;34m(\u001b[0m\u001b[0;34m\"You have to supply one of 'by' and 'level'\"\u001b[0m\u001b[0;34m)\u001b[0m\u001b[0;34m\u001b[0m\u001b[0;34m\u001b[0m\u001b[0m\n\u001b[0m\u001b[1;32m   1718\u001b[0m         \u001b[0maxis\u001b[0m \u001b[0;34m=\u001b[0m \u001b[0mself\u001b[0m\u001b[0;34m.\u001b[0m\u001b[0m_get_axis_number\u001b[0m\u001b[0;34m(\u001b[0m\u001b[0maxis\u001b[0m\u001b[0;34m)\u001b[0m\u001b[0;34m\u001b[0m\u001b[0;34m\u001b[0m\u001b[0m\n\u001b[1;32m   1719\u001b[0m \u001b[0;34m\u001b[0m\u001b[0m\n",
      "\u001b[0;31mTypeError\u001b[0m: You have to supply one of 'by' and 'level'"
     ]
    }
   ],
   "source": [
    "ds_df.path.groupby().value_counts(normalize = True)"
   ]
  },
  {
   "cell_type": "code",
   "execution_count": null,
   "id": "292c23fa",
   "metadata": {},
   "outputs": [],
   "source": []
  },
  {
   "cell_type": "code",
   "execution_count": null,
   "id": "687d1382",
   "metadata": {},
   "outputs": [],
   "source": []
  },
  {
   "cell_type": "code",
   "execution_count": null,
   "id": "ebd4aa29",
   "metadata": {},
   "outputs": [],
   "source": [
    "php_df.groupby('path').sort_values(ascending = False)"
   ]
  },
  {
   "cell_type": "code",
   "execution_count": null,
   "id": "5f567a4a",
   "metadata": {},
   "outputs": [],
   "source": [
    "df.program_subdomain.value_counts()"
   ]
  },
  {
   "cell_type": "code",
   "execution_count": null,
   "id": "d159cc2e",
   "metadata": {},
   "outputs": [],
   "source": [
    "df.describe().T"
   ]
  },
  {
   "cell_type": "code",
   "execution_count": null,
   "id": "5c254e58",
   "metadata": {},
   "outputs": [],
   "source": [
    "df.isnull().sum()"
   ]
  },
  {
   "cell_type": "code",
   "execution_count": null,
   "id": "eef983c7",
   "metadata": {
    "scrolled": true
   },
   "outputs": [],
   "source": [
    "df.shape"
   ]
  },
  {
   "cell_type": "markdown",
   "id": "9ab5c81c",
   "metadata": {},
   "source": [
    "Dataframe has 13 columns and 73739 rows after cleaning."
   ]
  },
  {
   "cell_type": "markdown",
   "id": "81aef4f7",
   "metadata": {},
   "source": [
    "## Questions from zach"
   ]
  },
  {
   "cell_type": "markdown",
   "id": "41d269d2",
   "metadata": {},
   "source": [
    "### 1. Which lesson appears to attract the most traffic consistently across cohorts (per program)?"
   ]
  },
  {
   "cell_type": "code",
   "execution_count": null,
   "id": "b82a99e6",
   "metadata": {},
   "outputs": [],
   "source": [
    "df.groupby('program_subdomain').count_helper.sum()"
   ]
  },
  {
   "cell_type": "code",
   "execution_count": null,
   "id": "58b9a5a5",
   "metadata": {},
   "outputs": [],
   "source": [
    "plt.figure(figsize = (14,8))\n",
    "df.groupby('program_subdomain').count_helper.sum().plot(color = 'r')\n",
    "plt.show()"
   ]
  },
  {
   "cell_type": "code",
   "execution_count": null,
   "id": "0ec99f72",
   "metadata": {},
   "outputs": [],
   "source": [
    "# Looks like the PHP Full Stack Web Development has the most traffic."
   ]
  },
  {
   "cell_type": "code",
   "execution_count": null,
   "id": "51248632",
   "metadata": {},
   "outputs": [],
   "source": [
    "sample_df = df[:20]"
   ]
  },
  {
   "cell_type": "code",
   "execution_count": null,
   "id": "2da03786",
   "metadata": {},
   "outputs": [],
   "source": [
    "df.split_path.str[0]"
   ]
  },
  {
   "cell_type": "markdown",
   "id": "943bea58",
   "metadata": {},
   "source": [
    "### 2. Is there a cohort that referred to a lesson significantly more than other cohorts seemed to gloss over?"
   ]
  },
  {
   "cell_type": "code",
   "execution_count": null,
   "id": "807ad201",
   "metadata": {},
   "outputs": [],
   "source": [
    "def path_value_counts(df):\n",
    "    for i in range(1,8):\n",
    "        lesson_df = df[df.split_path.str.len() == i]\n",
    "        print(lesson_df.groupby('cohort_name').path.value_counts(normalize=True).sort_values())\n",
    "        print('\\n')\n",
    "        print(f'{i}')\n",
    "        print('--------------------------')\n",
    "        print('\\n')"
   ]
  },
  {
   "cell_type": "code",
   "execution_count": null,
   "id": "1c884b7a",
   "metadata": {},
   "outputs": [],
   "source": [
    "path_value_counts(df)"
   ]
  },
  {
   "cell_type": "code",
   "execution_count": null,
   "id": "dcca966a",
   "metadata": {},
   "outputs": [],
   "source": [
    "lesson_df = df[df.split_path.str.len() == 3]"
   ]
  },
  {
   "cell_type": "code",
   "execution_count": null,
   "id": "d229832d",
   "metadata": {},
   "outputs": [],
   "source": [
    "lesson_df.shape"
   ]
  },
  {
   "cell_type": "code",
   "execution_count": null,
   "id": "8e97cd53",
   "metadata": {},
   "outputs": [],
   "source": [
    "lesson_df.groupby('cohort_name').path.value_counts(normalize=True).sort_values()"
   ]
  },
  {
   "cell_type": "markdown",
   "id": "09f989fd",
   "metadata": {},
   "source": [
    "# Not Finished"
   ]
  },
  {
   "cell_type": "markdown",
   "id": "9d7f859e",
   "metadata": {},
   "source": [
    "### 3. Are there students who, when active, hardly access the curriculum? If so, what information do you have about these students?"
   ]
  },
  {
   "cell_type": "code",
   "execution_count": null,
   "id": "6f77eb7f",
   "metadata": {},
   "outputs": [],
   "source": [
    "df.user_id.nunique()"
   ]
  },
  {
   "cell_type": "code",
   "execution_count": null,
   "id": "553c9640",
   "metadata": {},
   "outputs": [],
   "source": [
    "df.groupby('user_id').count_helper.sum().sort_values()"
   ]
  },
  {
   "cell_type": "code",
   "execution_count": null,
   "id": "0cd3f7d0",
   "metadata": {},
   "outputs": [],
   "source": [
    "df.groupby('user_id').count_helper.sum().value_counts(normalize = True)"
   ]
  },
  {
   "cell_type": "markdown",
   "id": "29807881",
   "metadata": {},
   "source": [
    "### 4. Is there any suspicious activity, such as users/machines/etc accessing the curriculum who shouldn’t be? Does it appear that any web-scraping is happening? Are there any suspicious IP addresses?"
   ]
  },
  {
   "cell_type": "code",
   "execution_count": null,
   "id": "7af43e1a",
   "metadata": {},
   "outputs": [],
   "source": []
  },
  {
   "cell_type": "markdown",
   "id": "5f1da352",
   "metadata": {},
   "source": [
    "### 5. At some point in 2019, the ability for students and alumni to access both curriculums (web dev to ds, ds to web dev) should have been shut off. Do you see any evidence of that happening? Did it happen before?"
   ]
  },
  {
   "cell_type": "code",
   "execution_count": null,
   "id": "53d90852",
   "metadata": {},
   "outputs": [],
   "source": []
  },
  {
   "cell_type": "markdown",
   "id": "5baf40fa",
   "metadata": {},
   "source": [
    "### 6. What topics are grads continuing to reference after graduation and into their jobs (for each program)?"
   ]
  },
  {
   "cell_type": "code",
   "execution_count": null,
   "id": "8061224c",
   "metadata": {},
   "outputs": [],
   "source": []
  },
  {
   "cell_type": "markdown",
   "id": "c8e2b01a",
   "metadata": {},
   "source": [
    "### 7. Which lessons are least accessed?"
   ]
  },
  {
   "cell_type": "code",
   "execution_count": null,
   "id": "ba66894d",
   "metadata": {},
   "outputs": [],
   "source": []
  },
  {
   "cell_type": "markdown",
   "id": "b17967d1",
   "metadata": {},
   "source": [
    "### 8. Anything else I should be aware of?"
   ]
  },
  {
   "cell_type": "code",
   "execution_count": null,
   "id": "4ba49e07",
   "metadata": {},
   "outputs": [],
   "source": []
  }
 ],
 "metadata": {
  "kernelspec": {
   "display_name": "Python 3",
   "language": "python",
   "name": "python3"
  },
  "language_info": {
   "codemirror_mode": {
    "name": "ipython",
    "version": 3
   },
   "file_extension": ".py",
   "mimetype": "text/x-python",
   "name": "python",
   "nbconvert_exporter": "python",
   "pygments_lexer": "ipython3",
   "version": "3.8.8"
  }
 },
 "nbformat": 4,
 "nbformat_minor": 5
}
