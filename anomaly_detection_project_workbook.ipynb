{
 "cells": [
  {
   "cell_type": "code",
   "execution_count": 3,
   "id": "4b16c6ad",
   "metadata": {},
   "outputs": [],
   "source": [
    "import pandas as pd\n",
    "import numpy as np\n",
    "import os\n",
    "import matplotlib.pyplot as plt\n",
    "import seaborn as sns\n",
    "\n",
    "import acquire\n",
    "import prepare"
   ]
  },
  {
   "cell_type": "markdown",
   "id": "ef447846",
   "metadata": {},
   "source": [
    "### Acquire"
   ]
  },
  {
   "cell_type": "code",
   "execution_count": 4,
   "id": "2ee0ade2",
   "metadata": {},
   "outputs": [],
   "source": [
    "# Created an acquire.py file that runs a SQL query to join the databases from the codeup library, and created a\n",
    "# pandas dataframe with that query, after that I saved it to a csv, and have to function check for the csv.\n",
    "df = acquire.get_cohort_data()"
   ]
  },
  {
   "cell_type": "markdown",
   "id": "408cb4f9",
   "metadata": {},
   "source": [
    "### Prepare"
   ]
  },
  {
   "cell_type": "markdown",
   "id": "4dbe538b",
   "metadata": {},
   "source": [
    "**Prepare summary**\n",
    "\n",
    "##### List of things my clean_cohort_data function does.\n",
    "- Combined the date and time column into a datetime, and converted the datatype to datetime\n",
    "- placed my new datetime column to the index for later use\n",
    "- replaced the program_id with its corresponding program name and subdomain\n",
    "- dropped unnecessary columns 'date','time','deleted_at','program_id','id'\n",
    "- renamed 'name' to 'cohort_name' for my personal readability"
   ]
  },
  {
   "cell_type": "code",
   "execution_count": 5,
   "id": "45628fdb",
   "metadata": {},
   "outputs": [],
   "source": [
    "df = prepare.clean_cohort_data(df)"
   ]
  },
  {
   "cell_type": "code",
   "execution_count": 6,
   "id": "e4612309",
   "metadata": {},
   "outputs": [
    {
     "data": {
      "text/html": [
       "<div>\n",
       "<style scoped>\n",
       "    .dataframe tbody tr th:only-of-type {\n",
       "        vertical-align: middle;\n",
       "    }\n",
       "\n",
       "    .dataframe tbody tr th {\n",
       "        vertical-align: top;\n",
       "    }\n",
       "\n",
       "    .dataframe thead th {\n",
       "        text-align: right;\n",
       "    }\n",
       "</style>\n",
       "<table border=\"1\" class=\"dataframe\">\n",
       "  <thead>\n",
       "    <tr style=\"text-align: right;\">\n",
       "      <th></th>\n",
       "      <th>path</th>\n",
       "      <th>user_id</th>\n",
       "      <th>cohort_id</th>\n",
       "      <th>ip</th>\n",
       "      <th>cohort_name</th>\n",
       "      <th>slack</th>\n",
       "      <th>start_date</th>\n",
       "      <th>end_date</th>\n",
       "      <th>created_at</th>\n",
       "      <th>updated_at</th>\n",
       "      <th>program_name</th>\n",
       "      <th>program_subdomain</th>\n",
       "    </tr>\n",
       "    <tr>\n",
       "      <th>datetime</th>\n",
       "      <th></th>\n",
       "      <th></th>\n",
       "      <th></th>\n",
       "      <th></th>\n",
       "      <th></th>\n",
       "      <th></th>\n",
       "      <th></th>\n",
       "      <th></th>\n",
       "      <th></th>\n",
       "      <th></th>\n",
       "      <th></th>\n",
       "      <th></th>\n",
       "    </tr>\n",
       "  </thead>\n",
       "  <tbody>\n",
       "    <tr>\n",
       "      <th>2018-01-26 09:55:03</th>\n",
       "      <td>/</td>\n",
       "      <td>1</td>\n",
       "      <td>8.0</td>\n",
       "      <td>97.105.19.61</td>\n",
       "      <td>Arches</td>\n",
       "      <td>#arches</td>\n",
       "      <td>2014-02-04</td>\n",
       "      <td>2014-04-22</td>\n",
       "      <td>2016-06-14 19:52:26</td>\n",
       "      <td>2016-06-14 19:52:26</td>\n",
       "      <td>PHP Full Stack Web Development</td>\n",
       "      <td>php</td>\n",
       "    </tr>\n",
       "    <tr>\n",
       "      <th>2018-01-26 09:56:02</th>\n",
       "      <td>java-ii</td>\n",
       "      <td>1</td>\n",
       "      <td>8.0</td>\n",
       "      <td>97.105.19.61</td>\n",
       "      <td>Arches</td>\n",
       "      <td>#arches</td>\n",
       "      <td>2014-02-04</td>\n",
       "      <td>2014-04-22</td>\n",
       "      <td>2016-06-14 19:52:26</td>\n",
       "      <td>2016-06-14 19:52:26</td>\n",
       "      <td>PHP Full Stack Web Development</td>\n",
       "      <td>php</td>\n",
       "    </tr>\n",
       "    <tr>\n",
       "      <th>2018-01-26 09:56:05</th>\n",
       "      <td>java-ii/object-oriented-programming</td>\n",
       "      <td>1</td>\n",
       "      <td>8.0</td>\n",
       "      <td>97.105.19.61</td>\n",
       "      <td>Arches</td>\n",
       "      <td>#arches</td>\n",
       "      <td>2014-02-04</td>\n",
       "      <td>2014-04-22</td>\n",
       "      <td>2016-06-14 19:52:26</td>\n",
       "      <td>2016-06-14 19:52:26</td>\n",
       "      <td>PHP Full Stack Web Development</td>\n",
       "      <td>php</td>\n",
       "    </tr>\n",
       "    <tr>\n",
       "      <th>2018-01-26 09:56:06</th>\n",
       "      <td>slides/object_oriented_programming</td>\n",
       "      <td>1</td>\n",
       "      <td>8.0</td>\n",
       "      <td>97.105.19.61</td>\n",
       "      <td>Arches</td>\n",
       "      <td>#arches</td>\n",
       "      <td>2014-02-04</td>\n",
       "      <td>2014-04-22</td>\n",
       "      <td>2016-06-14 19:52:26</td>\n",
       "      <td>2016-06-14 19:52:26</td>\n",
       "      <td>PHP Full Stack Web Development</td>\n",
       "      <td>php</td>\n",
       "    </tr>\n",
       "    <tr>\n",
       "      <th>2018-01-26 09:56:24</th>\n",
       "      <td>javascript-i/conditionals</td>\n",
       "      <td>2</td>\n",
       "      <td>22.0</td>\n",
       "      <td>97.105.19.61</td>\n",
       "      <td>Badlands</td>\n",
       "      <td>#badlands</td>\n",
       "      <td>2014-06-04</td>\n",
       "      <td>2014-08-22</td>\n",
       "      <td>2016-06-14 19:52:26</td>\n",
       "      <td>2016-06-14 19:52:26</td>\n",
       "      <td>PHP Full Stack Web Development</td>\n",
       "      <td>php</td>\n",
       "    </tr>\n",
       "  </tbody>\n",
       "</table>\n",
       "</div>"
      ],
      "text/plain": [
       "                                                    path  user_id  cohort_id  \\\n",
       "datetime                                                                       \n",
       "2018-01-26 09:55:03                                    /        1        8.0   \n",
       "2018-01-26 09:56:02                              java-ii        1        8.0   \n",
       "2018-01-26 09:56:05  java-ii/object-oriented-programming        1        8.0   \n",
       "2018-01-26 09:56:06   slides/object_oriented_programming        1        8.0   \n",
       "2018-01-26 09:56:24            javascript-i/conditionals        2       22.0   \n",
       "\n",
       "                               ip cohort_name      slack  start_date  \\\n",
       "datetime                                                               \n",
       "2018-01-26 09:55:03  97.105.19.61      Arches    #arches  2014-02-04   \n",
       "2018-01-26 09:56:02  97.105.19.61      Arches    #arches  2014-02-04   \n",
       "2018-01-26 09:56:05  97.105.19.61      Arches    #arches  2014-02-04   \n",
       "2018-01-26 09:56:06  97.105.19.61      Arches    #arches  2014-02-04   \n",
       "2018-01-26 09:56:24  97.105.19.61    Badlands  #badlands  2014-06-04   \n",
       "\n",
       "                       end_date           created_at           updated_at  \\\n",
       "datetime                                                                    \n",
       "2018-01-26 09:55:03  2014-04-22  2016-06-14 19:52:26  2016-06-14 19:52:26   \n",
       "2018-01-26 09:56:02  2014-04-22  2016-06-14 19:52:26  2016-06-14 19:52:26   \n",
       "2018-01-26 09:56:05  2014-04-22  2016-06-14 19:52:26  2016-06-14 19:52:26   \n",
       "2018-01-26 09:56:06  2014-04-22  2016-06-14 19:52:26  2016-06-14 19:52:26   \n",
       "2018-01-26 09:56:24  2014-08-22  2016-06-14 19:52:26  2016-06-14 19:52:26   \n",
       "\n",
       "                                       program_name program_subdomain  \n",
       "datetime                                                               \n",
       "2018-01-26 09:55:03  PHP Full Stack Web Development               php  \n",
       "2018-01-26 09:56:02  PHP Full Stack Web Development               php  \n",
       "2018-01-26 09:56:05  PHP Full Stack Web Development               php  \n",
       "2018-01-26 09:56:06  PHP Full Stack Web Development               php  \n",
       "2018-01-26 09:56:24  PHP Full Stack Web Development               php  "
      ]
     },
     "execution_count": 6,
     "metadata": {},
     "output_type": "execute_result"
    }
   ],
   "source": [
    "df.head()"
   ]
  },
  {
   "cell_type": "code",
   "execution_count": 7,
   "id": "4fb3ffdc",
   "metadata": {},
   "outputs": [
    {
     "data": {
      "text/html": [
       "<div>\n",
       "<style scoped>\n",
       "    .dataframe tbody tr th:only-of-type {\n",
       "        vertical-align: middle;\n",
       "    }\n",
       "\n",
       "    .dataframe tbody tr th {\n",
       "        vertical-align: top;\n",
       "    }\n",
       "\n",
       "    .dataframe thead th {\n",
       "        text-align: right;\n",
       "    }\n",
       "</style>\n",
       "<table border=\"1\" class=\"dataframe\">\n",
       "  <thead>\n",
       "    <tr style=\"text-align: right;\">\n",
       "      <th></th>\n",
       "      <th>count</th>\n",
       "      <th>mean</th>\n",
       "      <th>std</th>\n",
       "      <th>min</th>\n",
       "      <th>25%</th>\n",
       "      <th>50%</th>\n",
       "      <th>75%</th>\n",
       "      <th>max</th>\n",
       "    </tr>\n",
       "  </thead>\n",
       "  <tbody>\n",
       "    <tr>\n",
       "      <th>user_id</th>\n",
       "      <td>73739.0</td>\n",
       "      <td>30.566213</td>\n",
       "      <td>35.540653</td>\n",
       "      <td>1.0</td>\n",
       "      <td>11.0</td>\n",
       "      <td>12.0</td>\n",
       "      <td>53.0</td>\n",
       "      <td>139.0</td>\n",
       "    </tr>\n",
       "    <tr>\n",
       "      <th>cohort_id</th>\n",
       "      <td>72405.0</td>\n",
       "      <td>21.817374</td>\n",
       "      <td>6.708243</td>\n",
       "      <td>1.0</td>\n",
       "      <td>22.0</td>\n",
       "      <td>22.0</td>\n",
       "      <td>28.0</td>\n",
       "      <td>28.0</td>\n",
       "    </tr>\n",
       "  </tbody>\n",
       "</table>\n",
       "</div>"
      ],
      "text/plain": [
       "             count       mean        std  min   25%   50%   75%    max\n",
       "user_id    73739.0  30.566213  35.540653  1.0  11.0  12.0  53.0  139.0\n",
       "cohort_id  72405.0  21.817374   6.708243  1.0  22.0  22.0  28.0   28.0"
      ]
     },
     "execution_count": 7,
     "metadata": {},
     "output_type": "execute_result"
    }
   ],
   "source": [
    "df.describe().T"
   ]
  },
  {
   "cell_type": "markdown",
   "id": "81a1c918",
   "metadata": {},
   "source": [
    "## Questions from zach"
   ]
  },
  {
   "cell_type": "markdown",
   "id": "e3f14fe8",
   "metadata": {},
   "source": [
    "### 1. Which lesson appears to attract the most traffic consistently across cohorts (per program)?"
   ]
  },
  {
   "cell_type": "code",
   "execution_count": null,
   "id": "821d1938",
   "metadata": {},
   "outputs": [],
   "source": []
  },
  {
   "cell_type": "code",
   "execution_count": null,
   "id": "94b71c3b",
   "metadata": {},
   "outputs": [],
   "source": []
  },
  {
   "cell_type": "code",
   "execution_count": null,
   "id": "acb5093d",
   "metadata": {},
   "outputs": [],
   "source": []
  },
  {
   "cell_type": "code",
   "execution_count": null,
   "id": "8cfcaffa",
   "metadata": {},
   "outputs": [],
   "source": []
  }
 ],
 "metadata": {
  "kernelspec": {
   "display_name": "Python 3",
   "language": "python",
   "name": "python3"
  },
  "language_info": {
   "codemirror_mode": {
    "name": "ipython",
    "version": 3
   },
   "file_extension": ".py",
   "mimetype": "text/x-python",
   "name": "python",
   "nbconvert_exporter": "python",
   "pygments_lexer": "ipython3",
   "version": "3.8.8"
  }
 },
 "nbformat": 4,
 "nbformat_minor": 5
}
