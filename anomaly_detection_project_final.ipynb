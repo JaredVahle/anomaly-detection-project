{
 "cells": [
  {
   "cell_type": "code",
   "execution_count": 1,
   "id": "ea1f3fad",
   "metadata": {},
   "outputs": [],
   "source": [
    "import pandas as pd\n",
    "import numpy as np\n",
    "import os\n",
    "import matplotlib.pyplot as plt\n",
    "import seaborn as sns\n",
    "\n",
    "from acquire import get_cohort_data, get_cohort_information_data\n",
    "from prepare import split_by_program\n",
    "from wrangle import wrangle_cohort_data"
   ]
  },
  {
   "cell_type": "markdown",
   "id": "8d4c3a23",
   "metadata": {},
   "source": [
    "**Definitions**\n",
    "- php - PHP Full Stack Web Development\n",
    "- java - Java Full Stack Web Development\n",
    "- ds - Data Science\n",
    "- fe - Front End Web Development"
   ]
  },
  {
   "cell_type": "markdown",
   "id": "fa5214f5",
   "metadata": {},
   "source": [
    "## Acquire"
   ]
  },
  {
   "cell_type": "code",
   "execution_count": 2,
   "id": "edd6074a",
   "metadata": {},
   "outputs": [],
   "source": [
    "# Created an acquire.py file that runs a SQL query to join the databases from the codeup library, and created a\n",
    "# pandas dataframe with that query, after that I saved it to a csv, and have to function check for the csv.\n",
    "df = get_cohort_data()"
   ]
  },
  {
   "cell_type": "code",
   "execution_count": 3,
   "id": "893bba95",
   "metadata": {},
   "outputs": [
    {
     "data": {
      "text/html": [
       "<div>\n",
       "<style scoped>\n",
       "    .dataframe tbody tr th:only-of-type {\n",
       "        vertical-align: middle;\n",
       "    }\n",
       "\n",
       "    .dataframe tbody tr th {\n",
       "        vertical-align: top;\n",
       "    }\n",
       "\n",
       "    .dataframe thead th {\n",
       "        text-align: right;\n",
       "    }\n",
       "</style>\n",
       "<table border=\"1\" class=\"dataframe\">\n",
       "  <thead>\n",
       "    <tr style=\"text-align: right;\">\n",
       "      <th></th>\n",
       "      <th>date</th>\n",
       "      <th>time</th>\n",
       "      <th>path</th>\n",
       "      <th>user_id</th>\n",
       "      <th>cohort_id</th>\n",
       "      <th>ip</th>\n",
       "      <th>id</th>\n",
       "      <th>name</th>\n",
       "      <th>slack</th>\n",
       "      <th>start_date</th>\n",
       "      <th>end_date</th>\n",
       "      <th>created_at</th>\n",
       "      <th>updated_at</th>\n",
       "      <th>deleted_at</th>\n",
       "      <th>program_id</th>\n",
       "    </tr>\n",
       "  </thead>\n",
       "  <tbody>\n",
       "    <tr>\n",
       "      <th>0</th>\n",
       "      <td>2018-01-26</td>\n",
       "      <td>09:55:03</td>\n",
       "      <td>/</td>\n",
       "      <td>1</td>\n",
       "      <td>8.0</td>\n",
       "      <td>97.105.19.61</td>\n",
       "      <td>1.0</td>\n",
       "      <td>Arches</td>\n",
       "      <td>#arches</td>\n",
       "      <td>2014-02-04</td>\n",
       "      <td>2014-04-22</td>\n",
       "      <td>2016-06-14 19:52:26</td>\n",
       "      <td>2016-06-14 19:52:26</td>\n",
       "      <td>NaN</td>\n",
       "      <td>1.0</td>\n",
       "    </tr>\n",
       "    <tr>\n",
       "      <th>1</th>\n",
       "      <td>2018-01-26</td>\n",
       "      <td>09:56:02</td>\n",
       "      <td>java-ii</td>\n",
       "      <td>1</td>\n",
       "      <td>8.0</td>\n",
       "      <td>97.105.19.61</td>\n",
       "      <td>1.0</td>\n",
       "      <td>Arches</td>\n",
       "      <td>#arches</td>\n",
       "      <td>2014-02-04</td>\n",
       "      <td>2014-04-22</td>\n",
       "      <td>2016-06-14 19:52:26</td>\n",
       "      <td>2016-06-14 19:52:26</td>\n",
       "      <td>NaN</td>\n",
       "      <td>1.0</td>\n",
       "    </tr>\n",
       "    <tr>\n",
       "      <th>2</th>\n",
       "      <td>2018-01-26</td>\n",
       "      <td>09:56:05</td>\n",
       "      <td>java-ii/object-oriented-programming</td>\n",
       "      <td>1</td>\n",
       "      <td>8.0</td>\n",
       "      <td>97.105.19.61</td>\n",
       "      <td>1.0</td>\n",
       "      <td>Arches</td>\n",
       "      <td>#arches</td>\n",
       "      <td>2014-02-04</td>\n",
       "      <td>2014-04-22</td>\n",
       "      <td>2016-06-14 19:52:26</td>\n",
       "      <td>2016-06-14 19:52:26</td>\n",
       "      <td>NaN</td>\n",
       "      <td>1.0</td>\n",
       "    </tr>\n",
       "    <tr>\n",
       "      <th>3</th>\n",
       "      <td>2018-01-26</td>\n",
       "      <td>09:56:06</td>\n",
       "      <td>slides/object_oriented_programming</td>\n",
       "      <td>1</td>\n",
       "      <td>8.0</td>\n",
       "      <td>97.105.19.61</td>\n",
       "      <td>1.0</td>\n",
       "      <td>Arches</td>\n",
       "      <td>#arches</td>\n",
       "      <td>2014-02-04</td>\n",
       "      <td>2014-04-22</td>\n",
       "      <td>2016-06-14 19:52:26</td>\n",
       "      <td>2016-06-14 19:52:26</td>\n",
       "      <td>NaN</td>\n",
       "      <td>1.0</td>\n",
       "    </tr>\n",
       "    <tr>\n",
       "      <th>4</th>\n",
       "      <td>2018-01-26</td>\n",
       "      <td>09:56:24</td>\n",
       "      <td>javascript-i/conditionals</td>\n",
       "      <td>2</td>\n",
       "      <td>22.0</td>\n",
       "      <td>97.105.19.61</td>\n",
       "      <td>2.0</td>\n",
       "      <td>Badlands</td>\n",
       "      <td>#badlands</td>\n",
       "      <td>2014-06-04</td>\n",
       "      <td>2014-08-22</td>\n",
       "      <td>2016-06-14 19:52:26</td>\n",
       "      <td>2016-06-14 19:52:26</td>\n",
       "      <td>NaN</td>\n",
       "      <td>1.0</td>\n",
       "    </tr>\n",
       "  </tbody>\n",
       "</table>\n",
       "</div>"
      ],
      "text/plain": [
       "         date      time                                 path  user_id  \\\n",
       "0  2018-01-26  09:55:03                                    /        1   \n",
       "1  2018-01-26  09:56:02                              java-ii        1   \n",
       "2  2018-01-26  09:56:05  java-ii/object-oriented-programming        1   \n",
       "3  2018-01-26  09:56:06   slides/object_oriented_programming        1   \n",
       "4  2018-01-26  09:56:24            javascript-i/conditionals        2   \n",
       "\n",
       "   cohort_id            ip   id      name      slack  start_date    end_date  \\\n",
       "0        8.0  97.105.19.61  1.0    Arches    #arches  2014-02-04  2014-04-22   \n",
       "1        8.0  97.105.19.61  1.0    Arches    #arches  2014-02-04  2014-04-22   \n",
       "2        8.0  97.105.19.61  1.0    Arches    #arches  2014-02-04  2014-04-22   \n",
       "3        8.0  97.105.19.61  1.0    Arches    #arches  2014-02-04  2014-04-22   \n",
       "4       22.0  97.105.19.61  2.0  Badlands  #badlands  2014-06-04  2014-08-22   \n",
       "\n",
       "            created_at           updated_at  deleted_at  program_id  \n",
       "0  2016-06-14 19:52:26  2016-06-14 19:52:26         NaN         1.0  \n",
       "1  2016-06-14 19:52:26  2016-06-14 19:52:26         NaN         1.0  \n",
       "2  2016-06-14 19:52:26  2016-06-14 19:52:26         NaN         1.0  \n",
       "3  2016-06-14 19:52:26  2016-06-14 19:52:26         NaN         1.0  \n",
       "4  2016-06-14 19:52:26  2016-06-14 19:52:26         NaN         1.0  "
      ]
     },
     "execution_count": 3,
     "metadata": {},
     "output_type": "execute_result"
    }
   ],
   "source": [
    "df.head()"
   ]
  },
  {
   "cell_type": "code",
   "execution_count": 4,
   "id": "26cacc66",
   "metadata": {},
   "outputs": [
    {
     "name": "stdout",
     "output_type": "stream",
     "text": [
      "<class 'pandas.core.frame.DataFrame'>\n",
      "Int64Index: 847330 entries, 0 to 847329\n",
      "Data columns (total 15 columns):\n",
      " #   Column      Non-Null Count   Dtype  \n",
      "---  ------      --------------   -----  \n",
      " 0   date        847330 non-null  object \n",
      " 1   time        847330 non-null  object \n",
      " 2   path        847329 non-null  object \n",
      " 3   user_id     847330 non-null  int64  \n",
      " 4   cohort_id   847330 non-null  float64\n",
      " 5   ip          847330 non-null  object \n",
      " 6   id          72405 non-null   float64\n",
      " 7   name        72405 non-null   object \n",
      " 8   slack       72405 non-null   object \n",
      " 9   start_date  72405 non-null   object \n",
      " 10  end_date    72405 non-null   object \n",
      " 11  created_at  72405 non-null   object \n",
      " 12  updated_at  72405 non-null   object \n",
      " 13  deleted_at  0 non-null       float64\n",
      " 14  program_id  72405 non-null   float64\n",
      "dtypes: float64(4), int64(1), object(10)\n",
      "memory usage: 103.4+ MB\n"
     ]
    }
   ],
   "source": [
    "df.info()"
   ]
  },
  {
   "cell_type": "code",
   "execution_count": 5,
   "id": "f8c040ed",
   "metadata": {},
   "outputs": [
    {
     "data": {
      "text/html": [
       "<div>\n",
       "<style scoped>\n",
       "    .dataframe tbody tr th:only-of-type {\n",
       "        vertical-align: middle;\n",
       "    }\n",
       "\n",
       "    .dataframe tbody tr th {\n",
       "        vertical-align: top;\n",
       "    }\n",
       "\n",
       "    .dataframe thead th {\n",
       "        text-align: right;\n",
       "    }\n",
       "</style>\n",
       "<table border=\"1\" class=\"dataframe\">\n",
       "  <thead>\n",
       "    <tr style=\"text-align: right;\">\n",
       "      <th></th>\n",
       "      <th>count</th>\n",
       "      <th>mean</th>\n",
       "      <th>std</th>\n",
       "      <th>min</th>\n",
       "      <th>25%</th>\n",
       "      <th>50%</th>\n",
       "      <th>75%</th>\n",
       "      <th>max</th>\n",
       "    </tr>\n",
       "  </thead>\n",
       "  <tbody>\n",
       "    <tr>\n",
       "      <th>user_id</th>\n",
       "      <td>847330.0</td>\n",
       "      <td>456.707344</td>\n",
       "      <td>250.734201</td>\n",
       "      <td>1.0</td>\n",
       "      <td>263.0</td>\n",
       "      <td>476.0</td>\n",
       "      <td>648.0</td>\n",
       "      <td>981.0</td>\n",
       "    </tr>\n",
       "    <tr>\n",
       "      <th>cohort_id</th>\n",
       "      <td>847330.0</td>\n",
       "      <td>48.501049</td>\n",
       "      <td>32.795482</td>\n",
       "      <td>1.0</td>\n",
       "      <td>28.0</td>\n",
       "      <td>33.0</td>\n",
       "      <td>57.0</td>\n",
       "      <td>139.0</td>\n",
       "    </tr>\n",
       "    <tr>\n",
       "      <th>id</th>\n",
       "      <td>72405.0</td>\n",
       "      <td>30.015248</td>\n",
       "      <td>35.619910</td>\n",
       "      <td>1.0</td>\n",
       "      <td>11.0</td>\n",
       "      <td>12.0</td>\n",
       "      <td>53.0</td>\n",
       "      <td>139.0</td>\n",
       "    </tr>\n",
       "    <tr>\n",
       "      <th>deleted_at</th>\n",
       "      <td>0.0</td>\n",
       "      <td>NaN</td>\n",
       "      <td>NaN</td>\n",
       "      <td>NaN</td>\n",
       "      <td>NaN</td>\n",
       "      <td>NaN</td>\n",
       "      <td>NaN</td>\n",
       "      <td>NaN</td>\n",
       "    </tr>\n",
       "    <tr>\n",
       "      <th>program_id</th>\n",
       "      <td>72405.0</td>\n",
       "      <td>1.552876</td>\n",
       "      <td>0.662231</td>\n",
       "      <td>1.0</td>\n",
       "      <td>1.0</td>\n",
       "      <td>1.0</td>\n",
       "      <td>2.0</td>\n",
       "      <td>4.0</td>\n",
       "    </tr>\n",
       "  </tbody>\n",
       "</table>\n",
       "</div>"
      ],
      "text/plain": [
       "               count        mean         std  min    25%    50%    75%    max\n",
       "user_id     847330.0  456.707344  250.734201  1.0  263.0  476.0  648.0  981.0\n",
       "cohort_id   847330.0   48.501049   32.795482  1.0   28.0   33.0   57.0  139.0\n",
       "id           72405.0   30.015248   35.619910  1.0   11.0   12.0   53.0  139.0\n",
       "deleted_at       0.0         NaN         NaN  NaN    NaN    NaN    NaN    NaN\n",
       "program_id   72405.0    1.552876    0.662231  1.0    1.0    1.0    2.0    4.0"
      ]
     },
     "execution_count": 5,
     "metadata": {},
     "output_type": "execute_result"
    }
   ],
   "source": [
    "df.describe().T"
   ]
  },
  {
   "cell_type": "code",
   "execution_count": 6,
   "id": "0a055651",
   "metadata": {},
   "outputs": [
    {
     "data": {
      "text/plain": [
       "date               0\n",
       "time               0\n",
       "path               1\n",
       "user_id            0\n",
       "cohort_id          0\n",
       "ip                 0\n",
       "id            774925\n",
       "name          774925\n",
       "slack         774925\n",
       "start_date    774925\n",
       "end_date      774925\n",
       "created_at    774925\n",
       "updated_at    774925\n",
       "deleted_at    847330\n",
       "program_id    774925\n",
       "dtype: int64"
      ]
     },
     "execution_count": 6,
     "metadata": {},
     "output_type": "execute_result"
    }
   ],
   "source": [
    "df.isnull().sum()"
   ]
  },
  {
   "cell_type": "code",
   "execution_count": 7,
   "id": "d59bb023",
   "metadata": {},
   "outputs": [
    {
     "data": {
      "text/plain": [
       "(847330, 15)"
      ]
     },
     "execution_count": 7,
     "metadata": {},
     "output_type": "execute_result"
    }
   ],
   "source": [
    "df.shape"
   ]
  },
  {
   "cell_type": "code",
   "execution_count": 8,
   "id": "0040e29f",
   "metadata": {},
   "outputs": [],
   "source": [
    "df_info = get_cohort_information_data()"
   ]
  },
  {
   "cell_type": "code",
   "execution_count": 9,
   "id": "6deddde7",
   "metadata": {},
   "outputs": [
    {
     "data": {
      "text/html": [
       "<div>\n",
       "<style scoped>\n",
       "    .dataframe tbody tr th:only-of-type {\n",
       "        vertical-align: middle;\n",
       "    }\n",
       "\n",
       "    .dataframe tbody tr th {\n",
       "        vertical-align: top;\n",
       "    }\n",
       "\n",
       "    .dataframe thead th {\n",
       "        text-align: right;\n",
       "    }\n",
       "</style>\n",
       "<table border=\"1\" class=\"dataframe\">\n",
       "  <thead>\n",
       "    <tr style=\"text-align: right;\">\n",
       "      <th></th>\n",
       "      <th>name</th>\n",
       "      <th>start_date</th>\n",
       "      <th>end_date</th>\n",
       "      <th>program_id</th>\n",
       "    </tr>\n",
       "    <tr>\n",
       "      <th>cohort_id</th>\n",
       "      <th></th>\n",
       "      <th></th>\n",
       "      <th></th>\n",
       "      <th></th>\n",
       "    </tr>\n",
       "  </thead>\n",
       "  <tbody>\n",
       "    <tr>\n",
       "      <th>1</th>\n",
       "      <td>Arches</td>\n",
       "      <td>2014-02-04</td>\n",
       "      <td>2014-04-22</td>\n",
       "      <td>1</td>\n",
       "    </tr>\n",
       "    <tr>\n",
       "      <th>2</th>\n",
       "      <td>Badlands</td>\n",
       "      <td>2014-06-04</td>\n",
       "      <td>2014-08-22</td>\n",
       "      <td>1</td>\n",
       "    </tr>\n",
       "    <tr>\n",
       "      <th>3</th>\n",
       "      <td>Carlsbad</td>\n",
       "      <td>2014-09-04</td>\n",
       "      <td>2014-11-05</td>\n",
       "      <td>1</td>\n",
       "    </tr>\n",
       "    <tr>\n",
       "      <th>4</th>\n",
       "      <td>Denali</td>\n",
       "      <td>2014-10-20</td>\n",
       "      <td>2015-01-18</td>\n",
       "      <td>1</td>\n",
       "    </tr>\n",
       "    <tr>\n",
       "      <th>5</th>\n",
       "      <td>Everglades</td>\n",
       "      <td>2014-11-18</td>\n",
       "      <td>2015-02-24</td>\n",
       "      <td>1</td>\n",
       "    </tr>\n",
       "  </tbody>\n",
       "</table>\n",
       "</div>"
      ],
      "text/plain": [
       "                 name  start_date    end_date  program_id\n",
       "cohort_id                                                \n",
       "1              Arches  2014-02-04  2014-04-22           1\n",
       "2            Badlands  2014-06-04  2014-08-22           1\n",
       "3            Carlsbad  2014-09-04  2014-11-05           1\n",
       "4              Denali  2014-10-20  2015-01-18           1\n",
       "5          Everglades  2014-11-18  2015-02-24           1"
      ]
     },
     "execution_count": 9,
     "metadata": {},
     "output_type": "execute_result"
    }
   ],
   "source": [
    "df_info.head()"
   ]
  },
  {
   "cell_type": "code",
   "execution_count": 10,
   "id": "8bc43244",
   "metadata": {},
   "outputs": [
    {
     "name": "stdout",
     "output_type": "stream",
     "text": [
      "<class 'pandas.core.frame.DataFrame'>\n",
      "Int64Index: 52 entries, 1 to 139\n",
      "Data columns (total 4 columns):\n",
      " #   Column      Non-Null Count  Dtype \n",
      "---  ------      --------------  ----- \n",
      " 0   name        52 non-null     object\n",
      " 1   start_date  52 non-null     object\n",
      " 2   end_date    52 non-null     object\n",
      " 3   program_id  52 non-null     int64 \n",
      "dtypes: int64(1), object(3)\n",
      "memory usage: 2.0+ KB\n"
     ]
    }
   ],
   "source": [
    "df_info.info()"
   ]
  },
  {
   "cell_type": "code",
   "execution_count": 11,
   "id": "add380ef",
   "metadata": {},
   "outputs": [
    {
     "data": {
      "text/html": [
       "<div>\n",
       "<style scoped>\n",
       "    .dataframe tbody tr th:only-of-type {\n",
       "        vertical-align: middle;\n",
       "    }\n",
       "\n",
       "    .dataframe tbody tr th {\n",
       "        vertical-align: top;\n",
       "    }\n",
       "\n",
       "    .dataframe thead th {\n",
       "        text-align: right;\n",
       "    }\n",
       "</style>\n",
       "<table border=\"1\" class=\"dataframe\">\n",
       "  <thead>\n",
       "    <tr style=\"text-align: right;\">\n",
       "      <th></th>\n",
       "      <th>count</th>\n",
       "      <th>mean</th>\n",
       "      <th>std</th>\n",
       "      <th>min</th>\n",
       "      <th>25%</th>\n",
       "      <th>50%</th>\n",
       "      <th>75%</th>\n",
       "      <th>max</th>\n",
       "    </tr>\n",
       "  </thead>\n",
       "  <tbody>\n",
       "    <tr>\n",
       "      <th>program_id</th>\n",
       "      <td>52.0</td>\n",
       "      <td>1.923077</td>\n",
       "      <td>0.736876</td>\n",
       "      <td>1.0</td>\n",
       "      <td>1.0</td>\n",
       "      <td>2.0</td>\n",
       "      <td>2.0</td>\n",
       "      <td>4.0</td>\n",
       "    </tr>\n",
       "  </tbody>\n",
       "</table>\n",
       "</div>"
      ],
      "text/plain": [
       "            count      mean       std  min  25%  50%  75%  max\n",
       "program_id   52.0  1.923077  0.736876  1.0  1.0  2.0  2.0  4.0"
      ]
     },
     "execution_count": 11,
     "metadata": {},
     "output_type": "execute_result"
    }
   ],
   "source": [
    "df_info.describe().T"
   ]
  },
  {
   "cell_type": "code",
   "execution_count": 12,
   "id": "1e4c5fea",
   "metadata": {},
   "outputs": [
    {
     "data": {
      "text/plain": [
       "name          0\n",
       "start_date    0\n",
       "end_date      0\n",
       "program_id    0\n",
       "dtype: int64"
      ]
     },
     "execution_count": 12,
     "metadata": {},
     "output_type": "execute_result"
    }
   ],
   "source": [
    "df_info.isnull().sum()"
   ]
  },
  {
   "cell_type": "code",
   "execution_count": 13,
   "id": "4d880718",
   "metadata": {},
   "outputs": [
    {
     "data": {
      "text/plain": [
       "(52, 4)"
      ]
     },
     "execution_count": 13,
     "metadata": {},
     "output_type": "execute_result"
    }
   ],
   "source": [
    "df_info.shape"
   ]
  },
  {
   "cell_type": "markdown",
   "id": "27c6f84b",
   "metadata": {},
   "source": [
    "## Prepare"
   ]
  },
  {
   "cell_type": "markdown",
   "id": "594ce922",
   "metadata": {},
   "source": [
    "**Prepare summary**\n",
    "\n",
    "##### List of things my clean_cohort_data function does.\n",
    "- Combined the date and time column into a datetime, and converted the datatype to datetime.\n",
    "- Placed my new datetime column to the index for later use.\n",
    "- Replaced the program_id with its corresponding program name and subdomain.\n",
    "- Dropped unnecessary columns 'date','time','deleted_at','program_id','id'.\n",
    "- Renamed 'name' to 'cohort_name' for my personal readability.\n",
    "- Created a dictionary to map cohort name to cohort id.\n",
    "- Filled nulls in cohort_id."
   ]
  },
  {
   "cell_type": "markdown",
   "id": "9f6d2c79",
   "metadata": {},
   "source": [
    "## Wrangle"
   ]
  },
  {
   "cell_type": "markdown",
   "id": "8caa64b1",
   "metadata": {},
   "source": [
    "**Size before wrangle - (847330, 15),(52, 4)**\n",
    "\n",
    "**Size after wrangle - (847329, 12)**"
   ]
  },
  {
   "cell_type": "markdown",
   "id": "c8fe2f04",
   "metadata": {},
   "source": [
    "**This is the cleaned dataframe and will be used to answer the questions given in the email by zach**"
   ]
  },
  {
   "cell_type": "code",
   "execution_count": 14,
   "id": "c5be1b9b",
   "metadata": {},
   "outputs": [],
   "source": [
    "df = wrangle_cohort_data()"
   ]
  },
  {
   "cell_type": "code",
   "execution_count": 15,
   "id": "6a4c4d91",
   "metadata": {},
   "outputs": [
    {
     "name": "stdout",
     "output_type": "stream",
     "text": [
      "<class 'pandas.core.frame.DataFrame'>\n",
      "DatetimeIndex: 801475 entries, 2018-01-26 09:56:02 to 2021-04-21 12:32:01\n",
      "Data columns (total 12 columns):\n",
      " #   Column             Non-Null Count   Dtype \n",
      "---  ------             --------------   ----- \n",
      " 0   path               801475 non-null  object\n",
      " 1   user_id            801475 non-null  int64 \n",
      " 2   cohort_id          801475 non-null  int64 \n",
      " 3   ip                 801475 non-null  object\n",
      " 4   cohort_name        801475 non-null  object\n",
      " 5   start_date         801475 non-null  object\n",
      " 6   end_date           801475 non-null  object\n",
      " 7   program_id         801475 non-null  int64 \n",
      " 8   count_helper       801475 non-null  int64 \n",
      " 9   program_name       801475 non-null  object\n",
      " 10  program_subdomain  801475 non-null  object\n",
      " 11  slack              801475 non-null  object\n",
      "dtypes: int64(4), object(8)\n",
      "memory usage: 79.5+ MB\n"
     ]
    }
   ],
   "source": [
    "df.info()"
   ]
  },
  {
   "cell_type": "code",
   "execution_count": 16,
   "id": "290c4226",
   "metadata": {},
   "outputs": [
    {
     "data": {
      "text/html": [
       "<div>\n",
       "<style scoped>\n",
       "    .dataframe tbody tr th:only-of-type {\n",
       "        vertical-align: middle;\n",
       "    }\n",
       "\n",
       "    .dataframe tbody tr th {\n",
       "        vertical-align: top;\n",
       "    }\n",
       "\n",
       "    .dataframe thead th {\n",
       "        text-align: right;\n",
       "    }\n",
       "</style>\n",
       "<table border=\"1\" class=\"dataframe\">\n",
       "  <thead>\n",
       "    <tr style=\"text-align: right;\">\n",
       "      <th></th>\n",
       "      <th>count</th>\n",
       "      <th>mean</th>\n",
       "      <th>std</th>\n",
       "      <th>min</th>\n",
       "      <th>25%</th>\n",
       "      <th>50%</th>\n",
       "      <th>75%</th>\n",
       "      <th>max</th>\n",
       "    </tr>\n",
       "  </thead>\n",
       "  <tbody>\n",
       "    <tr>\n",
       "      <th>user_id</th>\n",
       "      <td>801475.0</td>\n",
       "      <td>457.292479</td>\n",
       "      <td>249.980598</td>\n",
       "      <td>1.0</td>\n",
       "      <td>264.0</td>\n",
       "      <td>476.0</td>\n",
       "      <td>648.0</td>\n",
       "      <td>981.0</td>\n",
       "    </tr>\n",
       "    <tr>\n",
       "      <th>cohort_id</th>\n",
       "      <td>801475.0</td>\n",
       "      <td>48.558252</td>\n",
       "      <td>32.833081</td>\n",
       "      <td>1.0</td>\n",
       "      <td>28.0</td>\n",
       "      <td>33.0</td>\n",
       "      <td>57.0</td>\n",
       "      <td>139.0</td>\n",
       "    </tr>\n",
       "    <tr>\n",
       "      <th>program_id</th>\n",
       "      <td>801475.0</td>\n",
       "      <td>2.082590</td>\n",
       "      <td>0.384466</td>\n",
       "      <td>1.0</td>\n",
       "      <td>2.0</td>\n",
       "      <td>2.0</td>\n",
       "      <td>2.0</td>\n",
       "      <td>4.0</td>\n",
       "    </tr>\n",
       "    <tr>\n",
       "      <th>count_helper</th>\n",
       "      <td>801475.0</td>\n",
       "      <td>1.000000</td>\n",
       "      <td>0.000000</td>\n",
       "      <td>1.0</td>\n",
       "      <td>1.0</td>\n",
       "      <td>1.0</td>\n",
       "      <td>1.0</td>\n",
       "      <td>1.0</td>\n",
       "    </tr>\n",
       "  </tbody>\n",
       "</table>\n",
       "</div>"
      ],
      "text/plain": [
       "                 count        mean         std  min    25%    50%    75%  \\\n",
       "user_id       801475.0  457.292479  249.980598  1.0  264.0  476.0  648.0   \n",
       "cohort_id     801475.0   48.558252   32.833081  1.0   28.0   33.0   57.0   \n",
       "program_id    801475.0    2.082590    0.384466  1.0    2.0    2.0    2.0   \n",
       "count_helper  801475.0    1.000000    0.000000  1.0    1.0    1.0    1.0   \n",
       "\n",
       "                max  \n",
       "user_id       981.0  \n",
       "cohort_id     139.0  \n",
       "program_id      4.0  \n",
       "count_helper    1.0  "
      ]
     },
     "execution_count": 16,
     "metadata": {},
     "output_type": "execute_result"
    }
   ],
   "source": [
    "df.describe().T"
   ]
  },
  {
   "cell_type": "code",
   "execution_count": 17,
   "id": "18dbb701",
   "metadata": {},
   "outputs": [
    {
     "data": {
      "text/plain": [
       "path                 0\n",
       "user_id              0\n",
       "cohort_id            0\n",
       "ip                   0\n",
       "cohort_name          0\n",
       "start_date           0\n",
       "end_date             0\n",
       "program_id           0\n",
       "count_helper         0\n",
       "program_name         0\n",
       "program_subdomain    0\n",
       "slack                0\n",
       "dtype: int64"
      ]
     },
     "execution_count": 17,
     "metadata": {},
     "output_type": "execute_result"
    }
   ],
   "source": [
    "df.isnull().sum()"
   ]
  },
  {
   "cell_type": "code",
   "execution_count": 18,
   "id": "70e78ca0",
   "metadata": {},
   "outputs": [
    {
     "data": {
      "text/plain": [
       "(801475, 12)"
      ]
     },
     "execution_count": 18,
     "metadata": {},
     "output_type": "execute_result"
    }
   ],
   "source": [
    "df.shape"
   ]
  },
  {
   "cell_type": "code",
   "execution_count": 19,
   "id": "b144f519",
   "metadata": {},
   "outputs": [
    {
     "data": {
      "text/html": [
       "<div>\n",
       "<style scoped>\n",
       "    .dataframe tbody tr th:only-of-type {\n",
       "        vertical-align: middle;\n",
       "    }\n",
       "\n",
       "    .dataframe tbody tr th {\n",
       "        vertical-align: top;\n",
       "    }\n",
       "\n",
       "    .dataframe thead th {\n",
       "        text-align: right;\n",
       "    }\n",
       "</style>\n",
       "<table border=\"1\" class=\"dataframe\">\n",
       "  <thead>\n",
       "    <tr style=\"text-align: right;\">\n",
       "      <th></th>\n",
       "      <th>path</th>\n",
       "      <th>user_id</th>\n",
       "      <th>cohort_id</th>\n",
       "      <th>ip</th>\n",
       "      <th>cohort_name</th>\n",
       "      <th>start_date</th>\n",
       "      <th>end_date</th>\n",
       "      <th>program_id</th>\n",
       "      <th>count_helper</th>\n",
       "      <th>program_name</th>\n",
       "      <th>program_subdomain</th>\n",
       "      <th>slack</th>\n",
       "    </tr>\n",
       "    <tr>\n",
       "      <th>datetime</th>\n",
       "      <th></th>\n",
       "      <th></th>\n",
       "      <th></th>\n",
       "      <th></th>\n",
       "      <th></th>\n",
       "      <th></th>\n",
       "      <th></th>\n",
       "      <th></th>\n",
       "      <th></th>\n",
       "      <th></th>\n",
       "      <th></th>\n",
       "      <th></th>\n",
       "    </tr>\n",
       "  </thead>\n",
       "  <tbody>\n",
       "    <tr>\n",
       "      <th>2018-01-26 09:56:02</th>\n",
       "      <td>java-ii</td>\n",
       "      <td>1</td>\n",
       "      <td>8</td>\n",
       "      <td>97.105.19.61</td>\n",
       "      <td>Hampton</td>\n",
       "      <td>2015-09-22</td>\n",
       "      <td>2016-02-06</td>\n",
       "      <td>1</td>\n",
       "      <td>1</td>\n",
       "      <td>PHP Full Stack Web Development</td>\n",
       "      <td>php</td>\n",
       "      <td>#hampton</td>\n",
       "    </tr>\n",
       "    <tr>\n",
       "      <th>2018-01-26 09:56:05</th>\n",
       "      <td>java-ii/object-oriented-programming</td>\n",
       "      <td>1</td>\n",
       "      <td>8</td>\n",
       "      <td>97.105.19.61</td>\n",
       "      <td>Hampton</td>\n",
       "      <td>2015-09-22</td>\n",
       "      <td>2016-02-06</td>\n",
       "      <td>1</td>\n",
       "      <td>1</td>\n",
       "      <td>PHP Full Stack Web Development</td>\n",
       "      <td>php</td>\n",
       "      <td>#hampton</td>\n",
       "    </tr>\n",
       "    <tr>\n",
       "      <th>2018-01-26 09:56:06</th>\n",
       "      <td>slides/object_oriented_programming</td>\n",
       "      <td>1</td>\n",
       "      <td>8</td>\n",
       "      <td>97.105.19.61</td>\n",
       "      <td>Hampton</td>\n",
       "      <td>2015-09-22</td>\n",
       "      <td>2016-02-06</td>\n",
       "      <td>1</td>\n",
       "      <td>1</td>\n",
       "      <td>PHP Full Stack Web Development</td>\n",
       "      <td>php</td>\n",
       "      <td>#hampton</td>\n",
       "    </tr>\n",
       "    <tr>\n",
       "      <th>2018-01-26 10:40:15</th>\n",
       "      <td>javascript-i/functions</td>\n",
       "      <td>1</td>\n",
       "      <td>8</td>\n",
       "      <td>97.105.19.61</td>\n",
       "      <td>Hampton</td>\n",
       "      <td>2015-09-22</td>\n",
       "      <td>2016-02-06</td>\n",
       "      <td>1</td>\n",
       "      <td>1</td>\n",
       "      <td>PHP Full Stack Web Development</td>\n",
       "      <td>php</td>\n",
       "      <td>#hampton</td>\n",
       "    </tr>\n",
       "    <tr>\n",
       "      <th>2018-01-26 11:26:13</th>\n",
       "      <td>java-i</td>\n",
       "      <td>1</td>\n",
       "      <td>8</td>\n",
       "      <td>97.105.19.61</td>\n",
       "      <td>Hampton</td>\n",
       "      <td>2015-09-22</td>\n",
       "      <td>2016-02-06</td>\n",
       "      <td>1</td>\n",
       "      <td>1</td>\n",
       "      <td>PHP Full Stack Web Development</td>\n",
       "      <td>php</td>\n",
       "      <td>#hampton</td>\n",
       "    </tr>\n",
       "  </tbody>\n",
       "</table>\n",
       "</div>"
      ],
      "text/plain": [
       "                                                    path  user_id  cohort_id  \\\n",
       "datetime                                                                       \n",
       "2018-01-26 09:56:02                              java-ii        1          8   \n",
       "2018-01-26 09:56:05  java-ii/object-oriented-programming        1          8   \n",
       "2018-01-26 09:56:06   slides/object_oriented_programming        1          8   \n",
       "2018-01-26 10:40:15               javascript-i/functions        1          8   \n",
       "2018-01-26 11:26:13                               java-i        1          8   \n",
       "\n",
       "                               ip cohort_name  start_date    end_date  \\\n",
       "datetime                                                                \n",
       "2018-01-26 09:56:02  97.105.19.61     Hampton  2015-09-22  2016-02-06   \n",
       "2018-01-26 09:56:05  97.105.19.61     Hampton  2015-09-22  2016-02-06   \n",
       "2018-01-26 09:56:06  97.105.19.61     Hampton  2015-09-22  2016-02-06   \n",
       "2018-01-26 10:40:15  97.105.19.61     Hampton  2015-09-22  2016-02-06   \n",
       "2018-01-26 11:26:13  97.105.19.61     Hampton  2015-09-22  2016-02-06   \n",
       "\n",
       "                     program_id  count_helper                    program_name  \\\n",
       "datetime                                                                        \n",
       "2018-01-26 09:56:02           1             1  PHP Full Stack Web Development   \n",
       "2018-01-26 09:56:05           1             1  PHP Full Stack Web Development   \n",
       "2018-01-26 09:56:06           1             1  PHP Full Stack Web Development   \n",
       "2018-01-26 10:40:15           1             1  PHP Full Stack Web Development   \n",
       "2018-01-26 11:26:13           1             1  PHP Full Stack Web Development   \n",
       "\n",
       "                    program_subdomain     slack  \n",
       "datetime                                         \n",
       "2018-01-26 09:56:02               php  #hampton  \n",
       "2018-01-26 09:56:05               php  #hampton  \n",
       "2018-01-26 09:56:06               php  #hampton  \n",
       "2018-01-26 10:40:15               php  #hampton  \n",
       "2018-01-26 11:26:13               php  #hampton  "
      ]
     },
     "execution_count": 19,
     "metadata": {},
     "output_type": "execute_result"
    }
   ],
   "source": [
    "df.head()"
   ]
  },
  {
   "cell_type": "markdown",
   "id": "d59141fa",
   "metadata": {},
   "source": [
    "### Zach's questions in the email:"
   ]
  },
  {
   "cell_type": "markdown",
   "id": "c6eecd68",
   "metadata": {},
   "source": [
    "### 1. Which lesson appears to attract the most traffic consistently across cohorts (per program)?"
   ]
  },
  {
   "cell_type": "code",
   "execution_count": 20,
   "id": "6da97a1f",
   "metadata": {},
   "outputs": [],
   "source": [
    "php_df,java_df,ds_df,fe_df = split_by_program(df)"
   ]
  },
  {
   "cell_type": "code",
   "execution_count": 21,
   "id": "f47def43",
   "metadata": {},
   "outputs": [
    {
     "data": {
      "text/plain": [
       "cohort_name  path                                  \n",
       "Denali       prework/databases                         0.333333\n",
       "             mkdocs/search_index.json                  0.333333\n",
       "             prework/versioning/github                 0.333333\n",
       "Franklin     javascript-ii/es6                         0.147059\n",
       "Lassen       index.html                                0.092687\n",
       "                                                         ...   \n",
       "             appendix/extra-challenges/css-practice    0.000106\n",
       "             appendix/extra-challenges                 0.000106\n",
       "             appendix/cli-git-overview                 0.000106\n",
       "             appendix/angular/templating               0.000106\n",
       "             spring/fundamentals/integration-tests     0.000106\n",
       "Name: path, Length: 2555, dtype: float64"
      ]
     },
     "execution_count": 21,
     "metadata": {},
     "output_type": "execute_result"
    }
   ],
   "source": [
    "php_df.groupby('cohort_name').path.value_counts(normalize = True).sort_values(ascending = False)"
   ]
  },
  {
   "cell_type": "code",
   "execution_count": null,
   "id": "84d10275",
   "metadata": {},
   "outputs": [],
   "source": []
  }
 ],
 "metadata": {
  "kernelspec": {
   "display_name": "Python 3",
   "language": "python",
   "name": "python3"
  },
  "language_info": {
   "codemirror_mode": {
    "name": "ipython",
    "version": 3
   },
   "file_extension": ".py",
   "mimetype": "text/x-python",
   "name": "python",
   "nbconvert_exporter": "python",
   "pygments_lexer": "ipython3",
   "version": "3.8.8"
  }
 },
 "nbformat": 4,
 "nbformat_minor": 5
}
